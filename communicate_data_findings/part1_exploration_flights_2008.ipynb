{
 "cells": [
  {
   "cell_type": "markdown",
   "metadata": {
    "colab_type": "text",
    "id": "i4zwEv6yZbj8"
   },
   "source": [
    "# Flights Data Exploration\n",
    "## by Roshan Fernando\n",
    "\n",
    "## Preliminary Wrangling\n",
    "\n",
    "> This document explores a data set containing United States flights data for year 2008. There are approximately 7000000 flights data in the set. "
   ]
  },
  {
   "cell_type": "code",
   "execution_count": 1,
   "metadata": {
    "colab": {},
    "colab_type": "code",
    "id": "C1C2wbhWZbkB"
   },
   "outputs": [],
   "source": [
    "# import all packages and set plots to be embedded inline\n",
    "import requests as rq\n",
    "import os\n",
    "import numpy as np\n",
    "import pandas as pd\n",
    "import matplotlib.pyplot as plt\n",
    "import seaborn as sb\n",
    "\n",
    "%matplotlib inline"
   ]
  },
  {
   "cell_type": "code",
   "execution_count": 0,
   "metadata": {
    "colab": {},
    "colab_type": "code",
    "id": "r0-3dV3pZbkT"
   },
   "outputs": [],
   "source": [
    "# Download the data file from Internet\n",
    "    \n",
    "url = 'http://stat-computing.org/dataexpo/2009/2008.csv.bz2'\n",
    "response = rq.get(url)\n",
    "\n",
    "# Save downloaded content into a file\n",
    "with open(os.path.join(url.split('/')[-1]), mode = 'wb') as file:\n",
    "  file.write(response.content)"
   ]
  },
  {
   "cell_type": "code",
   "execution_count": 2,
   "metadata": {
    "colab": {},
    "colab_type": "code",
    "id": "huLQOrpdumng"
   },
   "outputs": [],
   "source": [
    "# load in the dataset into a pandas dataframe, print statistics\n",
    "df = pd.read_csv('2008.csv.bz2')"
   ]
  },
  {
   "cell_type": "code",
   "execution_count": 0,
   "metadata": {
    "colab": {
     "base_uri": "https://localhost:8080/",
     "height": 765
    },
    "colab_type": "code",
    "id": "B2b7FrGYu3-u",
    "outputId": "e3527583-88e9-46ff-bd95-666441a858ca"
   },
   "outputs": [
    {
     "name": "stdout",
     "output_type": "stream",
     "text": [
      "(7009728, 29)\n",
      "Year                   int64\n",
      "Month                  int64\n",
      "DayofMonth             int64\n",
      "DayOfWeek              int64\n",
      "DepTime              float64\n",
      "CRSDepTime             int64\n",
      "ArrTime              float64\n",
      "CRSArrTime             int64\n",
      "UniqueCarrier         object\n",
      "FlightNum              int64\n",
      "TailNum               object\n",
      "ActualElapsedTime    float64\n",
      "CRSElapsedTime       float64\n",
      "AirTime              float64\n",
      "ArrDelay             float64\n",
      "DepDelay             float64\n",
      "Origin                object\n",
      "Dest                  object\n",
      "Distance               int64\n",
      "TaxiIn               float64\n",
      "TaxiOut              float64\n",
      "Cancelled              int64\n",
      "CancellationCode      object\n",
      "Diverted               int64\n",
      "CarrierDelay         float64\n",
      "WeatherDelay         float64\n",
      "NASDelay             float64\n",
      "SecurityDelay        float64\n",
      "LateAircraftDelay    float64\n",
      "dtype: object\n",
      "   Year  Month  DayofMonth  ...  NASDelay  SecurityDelay  LateAircraftDelay\n",
      "0  2008      1           3  ...       NaN            NaN                NaN\n",
      "1  2008      1           3  ...       NaN            NaN                NaN\n",
      "2  2008      1           3  ...       NaN            NaN                NaN\n",
      "3  2008      1           3  ...       NaN            NaN                NaN\n",
      "4  2008      1           3  ...       0.0            0.0               32.0\n",
      "5  2008      1           3  ...       NaN            NaN                NaN\n",
      "6  2008      1           3  ...       0.0            0.0               47.0\n",
      "7  2008      1           3  ...       NaN            NaN                NaN\n",
      "8  2008      1           3  ...       NaN            NaN                NaN\n",
      "9  2008      1           3  ...       NaN            NaN                NaN\n",
      "\n",
      "[10 rows x 29 columns]\n"
     ]
    }
   ],
   "source": [
    "# high-level overview of data shape and composition\n",
    "print(df.shape)\n",
    "print(df.dtypes)\n",
    "print(df.head(10))"
   ]
  },
  {
   "cell_type": "code",
   "execution_count": 0,
   "metadata": {
    "colab": {
     "base_uri": "https://localhost:8080/",
     "height": 317
    },
    "colab_type": "code",
    "id": "LZWUMZ0kyxvk",
    "outputId": "087f3f71-4dad-49ef-827a-1f37121b5c47"
   },
   "outputs": [
    {
     "data": {
      "text/html": [
       "<div>\n",
       "<style scoped>\n",
       "    .dataframe tbody tr th:only-of-type {\n",
       "        vertical-align: middle;\n",
       "    }\n",
       "\n",
       "    .dataframe tbody tr th {\n",
       "        vertical-align: top;\n",
       "    }\n",
       "\n",
       "    .dataframe thead th {\n",
       "        text-align: right;\n",
       "    }\n",
       "</style>\n",
       "<table border=\"1\" class=\"dataframe\">\n",
       "  <thead>\n",
       "    <tr style=\"text-align: right;\">\n",
       "      <th></th>\n",
       "      <th>Year</th>\n",
       "      <th>Month</th>\n",
       "      <th>DayofMonth</th>\n",
       "      <th>DayOfWeek</th>\n",
       "      <th>DepTime</th>\n",
       "      <th>CRSDepTime</th>\n",
       "      <th>ArrTime</th>\n",
       "      <th>CRSArrTime</th>\n",
       "      <th>FlightNum</th>\n",
       "      <th>ActualElapsedTime</th>\n",
       "      <th>CRSElapsedTime</th>\n",
       "      <th>AirTime</th>\n",
       "      <th>ArrDelay</th>\n",
       "      <th>DepDelay</th>\n",
       "      <th>Distance</th>\n",
       "      <th>TaxiIn</th>\n",
       "      <th>TaxiOut</th>\n",
       "      <th>Cancelled</th>\n",
       "      <th>Diverted</th>\n",
       "      <th>CarrierDelay</th>\n",
       "      <th>WeatherDelay</th>\n",
       "      <th>NASDelay</th>\n",
       "      <th>SecurityDelay</th>\n",
       "      <th>LateAircraftDelay</th>\n",
       "    </tr>\n",
       "  </thead>\n",
       "  <tbody>\n",
       "    <tr>\n",
       "      <th>count</th>\n",
       "      <td>7009728.0</td>\n",
       "      <td>7.009728e+06</td>\n",
       "      <td>7.009728e+06</td>\n",
       "      <td>7.009728e+06</td>\n",
       "      <td>6.873482e+06</td>\n",
       "      <td>7.009728e+06</td>\n",
       "      <td>6.858079e+06</td>\n",
       "      <td>7.009728e+06</td>\n",
       "      <td>7.009728e+06</td>\n",
       "      <td>6.855029e+06</td>\n",
       "      <td>7.008884e+06</td>\n",
       "      <td>6.855029e+06</td>\n",
       "      <td>6.855029e+06</td>\n",
       "      <td>6.873482e+06</td>\n",
       "      <td>7.009728e+06</td>\n",
       "      <td>6.858079e+06</td>\n",
       "      <td>6.872670e+06</td>\n",
       "      <td>7.009728e+06</td>\n",
       "      <td>7.009728e+06</td>\n",
       "      <td>1.524735e+06</td>\n",
       "      <td>1.524735e+06</td>\n",
       "      <td>1.524735e+06</td>\n",
       "      <td>1.524735e+06</td>\n",
       "      <td>1.524735e+06</td>\n",
       "    </tr>\n",
       "    <tr>\n",
       "      <th>mean</th>\n",
       "      <td>2008.0</td>\n",
       "      <td>6.375130e+00</td>\n",
       "      <td>1.572801e+01</td>\n",
       "      <td>3.924182e+00</td>\n",
       "      <td>1.333830e+03</td>\n",
       "      <td>1.326086e+03</td>\n",
       "      <td>1.481258e+03</td>\n",
       "      <td>1.494801e+03</td>\n",
       "      <td>2.224200e+03</td>\n",
       "      <td>1.273224e+02</td>\n",
       "      <td>1.288668e+02</td>\n",
       "      <td>1.040186e+02</td>\n",
       "      <td>8.168452e+00</td>\n",
       "      <td>9.972570e+00</td>\n",
       "      <td>7.263870e+02</td>\n",
       "      <td>6.860852e+00</td>\n",
       "      <td>1.645305e+01</td>\n",
       "      <td>1.960618e-02</td>\n",
       "      <td>2.463006e-03</td>\n",
       "      <td>1.577206e+01</td>\n",
       "      <td>3.039031e+00</td>\n",
       "      <td>1.716462e+01</td>\n",
       "      <td>7.497434e-02</td>\n",
       "      <td>2.077098e+01</td>\n",
       "    </tr>\n",
       "    <tr>\n",
       "      <th>std</th>\n",
       "      <td>0.0</td>\n",
       "      <td>3.406737e+00</td>\n",
       "      <td>8.797068e+00</td>\n",
       "      <td>1.988259e+00</td>\n",
       "      <td>4.780689e+02</td>\n",
       "      <td>4.642509e+02</td>\n",
       "      <td>5.052251e+02</td>\n",
       "      <td>4.826728e+02</td>\n",
       "      <td>1.961716e+03</td>\n",
       "      <td>7.018731e+01</td>\n",
       "      <td>6.940974e+01</td>\n",
       "      <td>6.743980e+01</td>\n",
       "      <td>3.850194e+01</td>\n",
       "      <td>3.531127e+01</td>\n",
       "      <td>5.621018e+02</td>\n",
       "      <td>4.933649e+00</td>\n",
       "      <td>1.133280e+01</td>\n",
       "      <td>1.386426e-01</td>\n",
       "      <td>4.956753e-02</td>\n",
       "      <td>4.009912e+01</td>\n",
       "      <td>1.950287e+01</td>\n",
       "      <td>3.189495e+01</td>\n",
       "      <td>1.837940e+00</td>\n",
       "      <td>3.925964e+01</td>\n",
       "    </tr>\n",
       "    <tr>\n",
       "      <th>min</th>\n",
       "      <td>2008.0</td>\n",
       "      <td>1.000000e+00</td>\n",
       "      <td>1.000000e+00</td>\n",
       "      <td>1.000000e+00</td>\n",
       "      <td>1.000000e+00</td>\n",
       "      <td>0.000000e+00</td>\n",
       "      <td>1.000000e+00</td>\n",
       "      <td>0.000000e+00</td>\n",
       "      <td>1.000000e+00</td>\n",
       "      <td>1.200000e+01</td>\n",
       "      <td>-1.410000e+02</td>\n",
       "      <td>0.000000e+00</td>\n",
       "      <td>-5.190000e+02</td>\n",
       "      <td>-5.340000e+02</td>\n",
       "      <td>1.100000e+01</td>\n",
       "      <td>0.000000e+00</td>\n",
       "      <td>0.000000e+00</td>\n",
       "      <td>0.000000e+00</td>\n",
       "      <td>0.000000e+00</td>\n",
       "      <td>0.000000e+00</td>\n",
       "      <td>0.000000e+00</td>\n",
       "      <td>0.000000e+00</td>\n",
       "      <td>0.000000e+00</td>\n",
       "      <td>0.000000e+00</td>\n",
       "    </tr>\n",
       "    <tr>\n",
       "      <th>25%</th>\n",
       "      <td>2008.0</td>\n",
       "      <td>3.000000e+00</td>\n",
       "      <td>8.000000e+00</td>\n",
       "      <td>2.000000e+00</td>\n",
       "      <td>9.280000e+02</td>\n",
       "      <td>9.250000e+02</td>\n",
       "      <td>1.107000e+03</td>\n",
       "      <td>1.115000e+03</td>\n",
       "      <td>6.220000e+02</td>\n",
       "      <td>7.700000e+01</td>\n",
       "      <td>8.000000e+01</td>\n",
       "      <td>5.500000e+01</td>\n",
       "      <td>-1.000000e+01</td>\n",
       "      <td>-4.000000e+00</td>\n",
       "      <td>3.250000e+02</td>\n",
       "      <td>4.000000e+00</td>\n",
       "      <td>1.000000e+01</td>\n",
       "      <td>0.000000e+00</td>\n",
       "      <td>0.000000e+00</td>\n",
       "      <td>0.000000e+00</td>\n",
       "      <td>0.000000e+00</td>\n",
       "      <td>0.000000e+00</td>\n",
       "      <td>0.000000e+00</td>\n",
       "      <td>0.000000e+00</td>\n",
       "    </tr>\n",
       "    <tr>\n",
       "      <th>50%</th>\n",
       "      <td>2008.0</td>\n",
       "      <td>6.000000e+00</td>\n",
       "      <td>1.600000e+01</td>\n",
       "      <td>4.000000e+00</td>\n",
       "      <td>1.325000e+03</td>\n",
       "      <td>1.320000e+03</td>\n",
       "      <td>1.512000e+03</td>\n",
       "      <td>1.517000e+03</td>\n",
       "      <td>1.571000e+03</td>\n",
       "      <td>1.100000e+02</td>\n",
       "      <td>1.100000e+02</td>\n",
       "      <td>8.600000e+01</td>\n",
       "      <td>-2.000000e+00</td>\n",
       "      <td>-1.000000e+00</td>\n",
       "      <td>5.810000e+02</td>\n",
       "      <td>6.000000e+00</td>\n",
       "      <td>1.400000e+01</td>\n",
       "      <td>0.000000e+00</td>\n",
       "      <td>0.000000e+00</td>\n",
       "      <td>0.000000e+00</td>\n",
       "      <td>0.000000e+00</td>\n",
       "      <td>6.000000e+00</td>\n",
       "      <td>0.000000e+00</td>\n",
       "      <td>0.000000e+00</td>\n",
       "    </tr>\n",
       "    <tr>\n",
       "      <th>75%</th>\n",
       "      <td>2008.0</td>\n",
       "      <td>9.000000e+00</td>\n",
       "      <td>2.300000e+01</td>\n",
       "      <td>6.000000e+00</td>\n",
       "      <td>1.728000e+03</td>\n",
       "      <td>1.715000e+03</td>\n",
       "      <td>1.909000e+03</td>\n",
       "      <td>1.907000e+03</td>\n",
       "      <td>3.518000e+03</td>\n",
       "      <td>1.570000e+02</td>\n",
       "      <td>1.590000e+02</td>\n",
       "      <td>1.320000e+02</td>\n",
       "      <td>1.200000e+01</td>\n",
       "      <td>8.000000e+00</td>\n",
       "      <td>9.540000e+02</td>\n",
       "      <td>8.000000e+00</td>\n",
       "      <td>1.900000e+01</td>\n",
       "      <td>0.000000e+00</td>\n",
       "      <td>0.000000e+00</td>\n",
       "      <td>1.600000e+01</td>\n",
       "      <td>0.000000e+00</td>\n",
       "      <td>2.100000e+01</td>\n",
       "      <td>0.000000e+00</td>\n",
       "      <td>2.600000e+01</td>\n",
       "    </tr>\n",
       "    <tr>\n",
       "      <th>max</th>\n",
       "      <td>2008.0</td>\n",
       "      <td>1.200000e+01</td>\n",
       "      <td>3.100000e+01</td>\n",
       "      <td>7.000000e+00</td>\n",
       "      <td>2.400000e+03</td>\n",
       "      <td>2.359000e+03</td>\n",
       "      <td>2.400000e+03</td>\n",
       "      <td>2.400000e+03</td>\n",
       "      <td>9.743000e+03</td>\n",
       "      <td>1.379000e+03</td>\n",
       "      <td>1.435000e+03</td>\n",
       "      <td>1.350000e+03</td>\n",
       "      <td>2.461000e+03</td>\n",
       "      <td>2.467000e+03</td>\n",
       "      <td>4.962000e+03</td>\n",
       "      <td>3.080000e+02</td>\n",
       "      <td>4.290000e+02</td>\n",
       "      <td>1.000000e+00</td>\n",
       "      <td>1.000000e+00</td>\n",
       "      <td>2.436000e+03</td>\n",
       "      <td>1.352000e+03</td>\n",
       "      <td>1.357000e+03</td>\n",
       "      <td>3.920000e+02</td>\n",
       "      <td>1.316000e+03</td>\n",
       "    </tr>\n",
       "  </tbody>\n",
       "</table>\n",
       "</div>"
      ],
      "text/plain": [
       "            Year         Month  ...  SecurityDelay  LateAircraftDelay\n",
       "count  7009728.0  7.009728e+06  ...   1.524735e+06       1.524735e+06\n",
       "mean      2008.0  6.375130e+00  ...   7.497434e-02       2.077098e+01\n",
       "std          0.0  3.406737e+00  ...   1.837940e+00       3.925964e+01\n",
       "min       2008.0  1.000000e+00  ...   0.000000e+00       0.000000e+00\n",
       "25%       2008.0  3.000000e+00  ...   0.000000e+00       0.000000e+00\n",
       "50%       2008.0  6.000000e+00  ...   0.000000e+00       0.000000e+00\n",
       "75%       2008.0  9.000000e+00  ...   0.000000e+00       2.600000e+01\n",
       "max       2008.0  1.200000e+01  ...   3.920000e+02       1.316000e+03\n",
       "\n",
       "[8 rows x 24 columns]"
      ]
     },
     "execution_count": 5,
     "metadata": {
      "tags": []
     },
     "output_type": "execute_result"
    }
   ],
   "source": [
    "# descriptive statistics for numeric variables\n",
    "df.describe()"
   ]
  },
  {
   "cell_type": "markdown",
   "metadata": {
    "colab_type": "text",
    "id": "N1xXkRB3Zbkd"
   },
   "source": [
    "### What is the structure of your dataset?\n",
    "\n",
    "> There are 7009728 schedulled flights details for the year 2008 in the United States, with 29 features, including whether the flight was being cancelled or not and whether the flight was being late. Most of the vaiables out of 29 variables are quantitative. However there are qualitativel variables; UniqueCarrier, TailNum, Origin, Dest. There are also few catogerical variables; CancellationCode, Cancelled, and Diverted.\n",
    "\n",
    "### What is/are the main feature(s) of interest in your dataset?\n",
    "\n",
    "> I am most interested in figuring out which UniqueCarrier is the best and the worst.\n",
    "\n",
    "### What features in the dataset do you think will help support your investigation into your feature(s) of interest?\n",
    "\n",
    "> I expect that the CarrierDelay will have the strongest effect while CancellationCode feature will also play a key role as it can help figure out how many cancellations are due to the carriers.\n",
    "> I am aslo interested in the features 'Cancelled',  'Distance', and 'CarrierDelay'.\n",
    "> <br> I will be using these features to calculate the followings for each unique carrier:\n",
    "  - Number of flights cancelled per 100 flights schedulled\n",
    "  - Carrier delay in minutes per 100 flights operated\n",
    "  - Carrier delay in minutes per 100 miles distance "
   ]
  },
  {
   "cell_type": "markdown",
   "metadata": {
    "colab_type": "text",
    "id": "EM3Uu8pAZbkg"
   },
   "source": [
    "## Univariate Exploration\n",
    "\n",
    "> In this section,  I investigate the distributions of individual variables of interest. If\n",
    "you see unusual points or outliers, take a deeper look to clean things up\n",
    "and prepare yourself to look at relationships between variables."
   ]
  },
  {
   "cell_type": "markdown",
   "metadata": {
    "colab_type": "text",
    "id": "ACGdUaudH5um"
   },
   "source": [
    "### What is the distribution of UniqueCarriers in the year 2008? "
   ]
  },
  {
   "cell_type": "markdown",
   "metadata": {
    "colab_type": "text",
    "id": "_htFDlD3nRQ_"
   },
   "source": [
    "> The UniqueCarrier column contains two or three letter abbreviations for each carrier operated in the united states. For the convenience of the future investigations, I will change those to their names."
   ]
  },
  {
   "cell_type": "code",
   "execution_count": 0,
   "metadata": {
    "colab": {},
    "colab_type": "code",
    "id": "e_GWdt88Z_cL"
   },
   "outputs": [],
   "source": [
    "# Download the carriers.csv data file from Internet\n",
    "    \n",
    "url = 'http://stat-computing.org/dataexpo/2009/carriers.csv'\n",
    "response = rq.get(url)\n",
    "\n",
    "# Save downloaded content into a file\n",
    "with open(os.path.join(url.split('/')[-1]), mode = 'wb') as file:\n",
    "  file.write(response.content)"
   ]
  },
  {
   "cell_type": "code",
   "execution_count": 3,
   "metadata": {
    "colab": {},
    "colab_type": "code",
    "id": "qwR68Rr0IXXq"
   },
   "outputs": [],
   "source": [
    "# load in the dataset into a pandas dataframe\n",
    "carriers = pd.read_csv('carriers.csv')"
   ]
  },
  {
   "cell_type": "code",
   "execution_count": 4,
   "metadata": {
    "colab": {
     "base_uri": "https://localhost:8080/",
     "height": 669
    },
    "colab_type": "code",
    "executionInfo": {
     "elapsed": 964,
     "status": "ok",
     "timestamp": 1561574171430,
     "user": {
      "displayName": "Roshan Fernando",
      "photoUrl": "",
      "userId": "06143968698700038822"
     },
     "user_tz": 420
    },
    "id": "O-r3e7BpIitu",
    "outputId": "1e19fcf5-f066-4c8a-ec92-3e57d8ae36d8"
   },
   "outputs": [
    {
     "data": {
      "text/html": [
       "<div>\n",
       "<style scoped>\n",
       "    .dataframe tbody tr th:only-of-type {\n",
       "        vertical-align: middle;\n",
       "    }\n",
       "\n",
       "    .dataframe tbody tr th {\n",
       "        vertical-align: top;\n",
       "    }\n",
       "\n",
       "    .dataframe thead th {\n",
       "        text-align: right;\n",
       "    }\n",
       "</style>\n",
       "<table border=\"1\" class=\"dataframe\">\n",
       "  <thead>\n",
       "    <tr style=\"text-align: right;\">\n",
       "      <th></th>\n",
       "      <th>Code</th>\n",
       "      <th>Description</th>\n",
       "    </tr>\n",
       "  </thead>\n",
       "  <tbody>\n",
       "    <tr>\n",
       "      <th>0</th>\n",
       "      <td>9E</td>\n",
       "      <td>Pinnacle Airlines Inc.</td>\n",
       "    </tr>\n",
       "    <tr>\n",
       "      <th>1</th>\n",
       "      <td>AA</td>\n",
       "      <td>American Airlines Inc.</td>\n",
       "    </tr>\n",
       "    <tr>\n",
       "      <th>2</th>\n",
       "      <td>AQ</td>\n",
       "      <td>Aloha Airlines Inc.</td>\n",
       "    </tr>\n",
       "    <tr>\n",
       "      <th>3</th>\n",
       "      <td>AS</td>\n",
       "      <td>Alaska Airlines Inc.</td>\n",
       "    </tr>\n",
       "    <tr>\n",
       "      <th>4</th>\n",
       "      <td>B6</td>\n",
       "      <td>JetBlue Airways</td>\n",
       "    </tr>\n",
       "    <tr>\n",
       "      <th>5</th>\n",
       "      <td>CO</td>\n",
       "      <td>Continental Air Lines Inc.</td>\n",
       "    </tr>\n",
       "    <tr>\n",
       "      <th>6</th>\n",
       "      <td>DL</td>\n",
       "      <td>Delta Air Lines Inc.</td>\n",
       "    </tr>\n",
       "    <tr>\n",
       "      <th>7</th>\n",
       "      <td>EV</td>\n",
       "      <td>Atlantic Southeast Airlines</td>\n",
       "    </tr>\n",
       "    <tr>\n",
       "      <th>8</th>\n",
       "      <td>F9</td>\n",
       "      <td>Frontier Airlines Inc.</td>\n",
       "    </tr>\n",
       "    <tr>\n",
       "      <th>9</th>\n",
       "      <td>FL</td>\n",
       "      <td>AirTran Airways Corporation</td>\n",
       "    </tr>\n",
       "    <tr>\n",
       "      <th>10</th>\n",
       "      <td>HA</td>\n",
       "      <td>Hawaiian Airlines Inc.</td>\n",
       "    </tr>\n",
       "    <tr>\n",
       "      <th>11</th>\n",
       "      <td>MQ</td>\n",
       "      <td>American Eagle Airlines Inc.</td>\n",
       "    </tr>\n",
       "    <tr>\n",
       "      <th>12</th>\n",
       "      <td>NW</td>\n",
       "      <td>Northwest Airlines Inc.</td>\n",
       "    </tr>\n",
       "    <tr>\n",
       "      <th>13</th>\n",
       "      <td>OH</td>\n",
       "      <td>Comair Inc.</td>\n",
       "    </tr>\n",
       "    <tr>\n",
       "      <th>14</th>\n",
       "      <td>OO</td>\n",
       "      <td>Skywest Airlines Inc.</td>\n",
       "    </tr>\n",
       "    <tr>\n",
       "      <th>15</th>\n",
       "      <td>UA</td>\n",
       "      <td>United Air Lines Inc.</td>\n",
       "    </tr>\n",
       "    <tr>\n",
       "      <th>16</th>\n",
       "      <td>US</td>\n",
       "      <td>US Airways Inc. (Merged with America West 9/05...</td>\n",
       "    </tr>\n",
       "    <tr>\n",
       "      <th>17</th>\n",
       "      <td>WN</td>\n",
       "      <td>Southwest Airlines Co.</td>\n",
       "    </tr>\n",
       "    <tr>\n",
       "      <th>18</th>\n",
       "      <td>XE</td>\n",
       "      <td>Expressjet Airlines Inc.</td>\n",
       "    </tr>\n",
       "    <tr>\n",
       "      <th>19</th>\n",
       "      <td>YV</td>\n",
       "      <td>Mesa Airlines Inc.</td>\n",
       "    </tr>\n",
       "  </tbody>\n",
       "</table>\n",
       "</div>"
      ],
      "text/plain": [
       "   Code                                        Description\n",
       "0    9E                             Pinnacle Airlines Inc.\n",
       "1    AA                             American Airlines Inc.\n",
       "2    AQ                                Aloha Airlines Inc.\n",
       "3    AS                               Alaska Airlines Inc.\n",
       "4    B6                                    JetBlue Airways\n",
       "5    CO                         Continental Air Lines Inc.\n",
       "6    DL                               Delta Air Lines Inc.\n",
       "7    EV                        Atlantic Southeast Airlines\n",
       "8    F9                             Frontier Airlines Inc.\n",
       "9    FL                        AirTran Airways Corporation\n",
       "10   HA                             Hawaiian Airlines Inc.\n",
       "11   MQ                       American Eagle Airlines Inc.\n",
       "12   NW                            Northwest Airlines Inc.\n",
       "13   OH                                        Comair Inc.\n",
       "14   OO                              Skywest Airlines Inc.\n",
       "15   UA                              United Air Lines Inc.\n",
       "16   US  US Airways Inc. (Merged with America West 9/05...\n",
       "17   WN                             Southwest Airlines Co.\n",
       "18   XE                           Expressjet Airlines Inc.\n",
       "19   YV                                 Mesa Airlines Inc."
      ]
     },
     "execution_count": 4,
     "metadata": {},
     "output_type": "execute_result"
    }
   ],
   "source": [
    "# Create a list of abbreviations in the UniqueCarriers column\n",
    "carrier_abr_list = df.UniqueCarrier.value_counts().index\n",
    "\n",
    "# Create a data frame for the carrier names of interests\n",
    "carrier_names = carriers[carriers.Code.isin(carrier_abr_list)].reset_index(drop=True)\n",
    "carrier_names"
   ]
  },
  {
   "cell_type": "code",
   "execution_count": 5,
   "metadata": {
    "colab": {},
    "colab_type": "code",
    "id": "F0lbe6LuRJqn"
   },
   "outputs": [],
   "source": [
    "# Truncate Descriptions for clarity\n",
    "carrier_names['name'] = carrier_names.Description.str.split(' A').str[0]\n",
    "carrier_names['name'] = carrier_names.name.str.split(' I').str[0]\n",
    "carrier_names.set_index('Code', inplace = True)"
   ]
  },
  {
   "cell_type": "code",
   "execution_count": 6,
   "metadata": {
    "colab": {
     "base_uri": "https://localhost:8080/",
     "height": 700
    },
    "colab_type": "code",
    "executionInfo": {
     "elapsed": 419,
     "status": "ok",
     "timestamp": 1561574176947,
     "user": {
      "displayName": "Roshan Fernando",
      "photoUrl": "",
      "userId": "06143968698700038822"
     },
     "user_tz": 420
    },
    "id": "RtWv7GVvWR7P",
    "outputId": "5ba456c0-11a4-469f-d92b-7eafd7a9436b"
   },
   "outputs": [
    {
     "data": {
      "text/html": [
       "<div>\n",
       "<style scoped>\n",
       "    .dataframe tbody tr th:only-of-type {\n",
       "        vertical-align: middle;\n",
       "    }\n",
       "\n",
       "    .dataframe tbody tr th {\n",
       "        vertical-align: top;\n",
       "    }\n",
       "\n",
       "    .dataframe thead th {\n",
       "        text-align: right;\n",
       "    }\n",
       "</style>\n",
       "<table border=\"1\" class=\"dataframe\">\n",
       "  <thead>\n",
       "    <tr style=\"text-align: right;\">\n",
       "      <th></th>\n",
       "      <th>Description</th>\n",
       "      <th>name</th>\n",
       "    </tr>\n",
       "    <tr>\n",
       "      <th>Code</th>\n",
       "      <th></th>\n",
       "      <th></th>\n",
       "    </tr>\n",
       "  </thead>\n",
       "  <tbody>\n",
       "    <tr>\n",
       "      <th>9E</th>\n",
       "      <td>Pinnacle Airlines Inc.</td>\n",
       "      <td>Pinnacle</td>\n",
       "    </tr>\n",
       "    <tr>\n",
       "      <th>AA</th>\n",
       "      <td>American Airlines Inc.</td>\n",
       "      <td>American</td>\n",
       "    </tr>\n",
       "    <tr>\n",
       "      <th>AQ</th>\n",
       "      <td>Aloha Airlines Inc.</td>\n",
       "      <td>Aloha</td>\n",
       "    </tr>\n",
       "    <tr>\n",
       "      <th>AS</th>\n",
       "      <td>Alaska Airlines Inc.</td>\n",
       "      <td>Alaska</td>\n",
       "    </tr>\n",
       "    <tr>\n",
       "      <th>B6</th>\n",
       "      <td>JetBlue Airways</td>\n",
       "      <td>JetBlue</td>\n",
       "    </tr>\n",
       "    <tr>\n",
       "      <th>CO</th>\n",
       "      <td>Continental Air Lines Inc.</td>\n",
       "      <td>Continental</td>\n",
       "    </tr>\n",
       "    <tr>\n",
       "      <th>DL</th>\n",
       "      <td>Delta Air Lines Inc.</td>\n",
       "      <td>Delta</td>\n",
       "    </tr>\n",
       "    <tr>\n",
       "      <th>EV</th>\n",
       "      <td>Atlantic Southeast Airlines</td>\n",
       "      <td>Atlantic Southeast</td>\n",
       "    </tr>\n",
       "    <tr>\n",
       "      <th>F9</th>\n",
       "      <td>Frontier Airlines Inc.</td>\n",
       "      <td>Frontier</td>\n",
       "    </tr>\n",
       "    <tr>\n",
       "      <th>FL</th>\n",
       "      <td>AirTran Airways Corporation</td>\n",
       "      <td>AirTran</td>\n",
       "    </tr>\n",
       "    <tr>\n",
       "      <th>HA</th>\n",
       "      <td>Hawaiian Airlines Inc.</td>\n",
       "      <td>Hawaiian</td>\n",
       "    </tr>\n",
       "    <tr>\n",
       "      <th>MQ</th>\n",
       "      <td>American Eagle Airlines Inc.</td>\n",
       "      <td>American Eagle</td>\n",
       "    </tr>\n",
       "    <tr>\n",
       "      <th>NW</th>\n",
       "      <td>Northwest Airlines Inc.</td>\n",
       "      <td>Northwest</td>\n",
       "    </tr>\n",
       "    <tr>\n",
       "      <th>OH</th>\n",
       "      <td>Comair Inc.</td>\n",
       "      <td>Comair</td>\n",
       "    </tr>\n",
       "    <tr>\n",
       "      <th>OO</th>\n",
       "      <td>Skywest Airlines Inc.</td>\n",
       "      <td>Skywest</td>\n",
       "    </tr>\n",
       "    <tr>\n",
       "      <th>UA</th>\n",
       "      <td>United Air Lines Inc.</td>\n",
       "      <td>United</td>\n",
       "    </tr>\n",
       "    <tr>\n",
       "      <th>US</th>\n",
       "      <td>US Airways Inc. (Merged with America West 9/05...</td>\n",
       "      <td>US</td>\n",
       "    </tr>\n",
       "    <tr>\n",
       "      <th>WN</th>\n",
       "      <td>Southwest Airlines Co.</td>\n",
       "      <td>Southwest</td>\n",
       "    </tr>\n",
       "    <tr>\n",
       "      <th>XE</th>\n",
       "      <td>Expressjet Airlines Inc.</td>\n",
       "      <td>Expressjet</td>\n",
       "    </tr>\n",
       "    <tr>\n",
       "      <th>YV</th>\n",
       "      <td>Mesa Airlines Inc.</td>\n",
       "      <td>Mesa</td>\n",
       "    </tr>\n",
       "  </tbody>\n",
       "</table>\n",
       "</div>"
      ],
      "text/plain": [
       "                                            Description                name\n",
       "Code                                                                       \n",
       "9E                               Pinnacle Airlines Inc.            Pinnacle\n",
       "AA                               American Airlines Inc.            American\n",
       "AQ                                  Aloha Airlines Inc.               Aloha\n",
       "AS                                 Alaska Airlines Inc.              Alaska\n",
       "B6                                      JetBlue Airways             JetBlue\n",
       "CO                           Continental Air Lines Inc.         Continental\n",
       "DL                                 Delta Air Lines Inc.               Delta\n",
       "EV                          Atlantic Southeast Airlines  Atlantic Southeast\n",
       "F9                               Frontier Airlines Inc.            Frontier\n",
       "FL                          AirTran Airways Corporation             AirTran\n",
       "HA                               Hawaiian Airlines Inc.            Hawaiian\n",
       "MQ                         American Eagle Airlines Inc.      American Eagle\n",
       "NW                              Northwest Airlines Inc.           Northwest\n",
       "OH                                          Comair Inc.              Comair\n",
       "OO                                Skywest Airlines Inc.             Skywest\n",
       "UA                                United Air Lines Inc.              United\n",
       "US    US Airways Inc. (Merged with America West 9/05...                  US\n",
       "WN                               Southwest Airlines Co.           Southwest\n",
       "XE                             Expressjet Airlines Inc.          Expressjet\n",
       "YV                                   Mesa Airlines Inc.                Mesa"
      ]
     },
     "execution_count": 6,
     "metadata": {},
     "output_type": "execute_result"
    }
   ],
   "source": [
    "carrier_names"
   ]
  },
  {
   "cell_type": "code",
   "execution_count": 7,
   "metadata": {
    "colab": {
     "base_uri": "https://localhost:8080/",
     "height": 357
    },
    "colab_type": "code",
    "executionInfo": {
     "elapsed": 391,
     "status": "ok",
     "timestamp": 1561574179376,
     "user": {
      "displayName": "Roshan Fernando",
      "photoUrl": "",
      "userId": "06143968698700038822"
     },
     "user_tz": 420
    },
    "id": "jEYxOkV_ZjXz",
    "outputId": "cdbb6f52-b217-4dae-ebc1-65d456d74a88"
   },
   "outputs": [
    {
     "data": {
      "text/plain": [
       "{'9E': 'Pinnacle',\n",
       " 'AA': 'American',\n",
       " 'AQ': 'Aloha',\n",
       " 'AS': 'Alaska',\n",
       " 'B6': 'JetBlue',\n",
       " 'CO': 'Continental',\n",
       " 'DL': 'Delta',\n",
       " 'EV': 'Atlantic Southeast',\n",
       " 'F9': 'Frontier',\n",
       " 'FL': 'AirTran',\n",
       " 'HA': 'Hawaiian',\n",
       " 'MQ': 'American Eagle',\n",
       " 'NW': 'Northwest',\n",
       " 'OH': 'Comair',\n",
       " 'OO': 'Skywest',\n",
       " 'UA': 'United',\n",
       " 'US': 'US',\n",
       " 'WN': 'Southwest',\n",
       " 'XE': 'Expressjet',\n",
       " 'YV': 'Mesa'}"
      ]
     },
     "execution_count": 7,
     "metadata": {},
     "output_type": "execute_result"
    }
   ],
   "source": [
    "# Create a dictionary abbreviations and names\n",
    "names_dict = dict(carrier_names.name)\n",
    "names_dict"
   ]
  },
  {
   "cell_type": "code",
   "execution_count": 8,
   "metadata": {
    "colab": {},
    "colab_type": "code",
    "id": "1c84sQz9eXB-"
   },
   "outputs": [],
   "source": [
    "# Replace abbreviations with names in UniqueCarrier column\n",
    "df.UniqueCarrier.replace(names_dict.keys(), names_dict.values(), inplace = True)"
   ]
  },
  {
   "cell_type": "code",
   "execution_count": null,
   "metadata": {
    "colab": {},
    "colab_type": "code",
    "id": "NrE2QbhgOiMl"
   },
   "outputs": [],
   "source": [
    "df.to_csv('modified_2008.csv.bz2')"
   ]
  },
  {
   "cell_type": "code",
   "execution_count": 31,
   "metadata": {
    "colab": {
     "base_uri": "https://localhost:8080/",
     "height": 283
    },
    "colab_type": "code",
    "executionInfo": {
     "elapsed": 3391,
     "status": "ok",
     "timestamp": 1561576733451,
     "user": {
      "displayName": "Roshan Fernando",
      "photoUrl": "",
      "userId": "06143968698700038822"
     },
     "user_tz": 420
    },
    "id": "9IZqL2ZHJZGt",
    "outputId": "fdab30ba-d389-43e8-c130-c2a54a31ce66"
   },
   "outputs": [
    {
     "data": {
      "image/png": "[encoded data removed]",
      "text/plain": [
       "<Figure size 432x288 with 1 Axes>"
      ]
     },
     "metadata": {
      "tags": []
     },
     "output_type": "display_data"
    }
   ],
   "source": [
    "# Use descending order of number of schedulled flights\n",
    "f_order = df.UniqueCarrier.value_counts().index\n",
    "\n",
    "# Create a color palette\n",
    "base_color = sb.color_palette()[0]\n",
    "\n",
    "# Create a countplot for the column UniqueCarrier\n",
    "sb.countplot(data = df, y = 'UniqueCarrier', color = base_color, order = f_order);\n",
    "\n",
    "# Change y-axis label\n",
    "plt.ylabel('Carrier Name')\n",
    "\n",
    "# Change x-label\n",
    "plt.xlabel('Number of Flights Schedulled')\n",
    "\n",
    "# Show percentages of flights schedulled by carriers\n",
    "flight_counts = df.UniqueCarrier.value_counts()\n",
    "for i in range(flight_counts.shape[0]):\n",
    "  count = flight_counts[i]\n",
    "  pct_string = '{:0.1f}%'.format(100*count/df.shape[0])\n",
    "  plt.text(count+1, i, pct_string, va = 'center');"
   ]
  },
  {
   "cell_type": "markdown",
   "metadata": {
    "colab_type": "text",
    "id": "QDoqVM4KmyaJ"
   },
   "source": [
    "> The distribution of UniqueCarrier column is dominated by the carrier, Southwest airline with a 17.1% contribution. This seems normal as bigger airline carriers contributions are larger and smale carrier contributions are smaller as expected."
   ]
  },
  {
   "cell_type": "markdown",
   "metadata": {
    "colab_type": "text",
    "id": "4BPi2Qu1RTG3"
   },
   "source": [
    "### What is the distribution of Cancelled flights in the year 2008?"
   ]
  },
  {
   "cell_type": "markdown",
   "metadata": {
    "colab_type": "text",
    "id": "QNT13rMhTDiB"
   },
   "source": [
    "> The Cancelled column have two values: 1 for Cancelled flights and 0 for operated flights. I will use a pie chart to visualize this distribution, since there is only two catogories."
   ]
  },
  {
   "cell_type": "code",
   "execution_count": 12,
   "metadata": {
    "colab": {
     "base_uri": "https://localhost:8080/",
     "height": 272
    },
    "colab_type": "code",
    "executionInfo": {
     "elapsed": 673,
     "status": "ok",
     "timestamp": 1561574190029,
     "user": {
      "displayName": "Roshan Fernando",
      "photoUrl": "",
      "userId": "06143968698700038822"
     },
     "user_tz": 420
    },
    "id": "IYVfZJu2JivR",
    "outputId": "1be4937a-5b93-4cb7-9cd3-0c53f521ab4c"
   },
   "outputs": [
    {
     "data": {
      "text/plain": [
       "<matplotlib.legend.Legend at 0x7f5137fda5c0>"
      ]
     },
     "execution_count": 12,
     "metadata": {
      "tags": []
     },
     "output_type": "execute_result"
    },
    {
     "data": {
      "image/png": "[encoded data removed]",
      "text/plain": [
       "<Figure size 432x288 with 1 Axes>"
      ]
     },
     "metadata": {
      "tags": []
     },
     "output_type": "display_data"
    }
   ],
   "source": [
    "sorted_counts = df['Cancelled'].value_counts()\n",
    "labels = 'Operated', 'Cancelled'\n",
    "plt.pie(sorted_counts, startangle = 90,\n",
    "        counterclock = False, autopct = '%1.f%%');\n",
    "plt.axis('equal')\n",
    "plt.legend(labels = labels)"
   ]
  },
  {
   "cell_type": "markdown",
   "metadata": {
    "colab_type": "text",
    "id": "n2CiIKHSoWVz"
   },
   "source": [
    "> The pie chart shows that 98% of schedulled flights were operated in 2008 and only 2% has been cancelled. I will see what contribute these cancellations next."
   ]
  },
  {
   "cell_type": "markdown",
   "metadata": {
    "colab_type": "text",
    "id": "prXT7rNeMYr6"
   },
   "source": [
    "### What is the distribution of CancellationCode in the year 2008?"
   ]
  },
  {
   "cell_type": "markdown",
   "metadata": {
    "colab_type": "text",
    "id": "-y-io1ICMl2n"
   },
   "source": [
    "> The CancellationCode column contains four nominal data points, namely 'A', 'B', 'C', and 'D'. which represents four reasons for cancellations.\n",
    "> - A - Carrier\n",
    "> - B - Weather\n",
    "> - C - NAS (National Airspace System)\n",
    "> - D - Security\n",
    "\n",
    "> I will visualize this distribution in a bar graph."
   ]
  },
  {
   "cell_type": "code",
   "execution_count": 13,
   "metadata": {
    "colab": {
     "base_uri": "https://localhost:8080/",
     "height": 272
    },
    "colab_type": "code",
    "executionInfo": {
     "elapsed": 940,
     "status": "ok",
     "timestamp": 1561574193468,
     "user": {
      "displayName": "Roshan Fernando",
      "photoUrl": "",
      "userId": "06143968698700038822"
     },
     "user_tz": 420
    },
    "id": "Opcswsw_OS0H",
    "outputId": "79c78aae-17a4-4eb8-9627-ba79464982fb"
   },
   "outputs": [
    {
     "data": {
      "text/plain": [
       "(-1.1203475380869121, 1.118229899676201, -1.102250182748722, 1.136327255014391)"
      ]
     },
     "execution_count": 13,
     "metadata": {
      "tags": []
     },
     "output_type": "execute_result"
    },
    {
     "data": {
      "image/png": "[encoded data removed]",
      "text/plain": [
       "<Figure size 432x288 with 1 Axes>"
      ]
     },
     "metadata": {
      "tags": []
     },
     "output_type": "display_data"
    }
   ],
   "source": [
    "sorted_counts = df['CancellationCode'].value_counts()\n",
    "plt.pie(sorted_counts, labels = sorted_counts.index, startangle = 90,\n",
    "        counterclock = False, autopct = '%1.2f%%');\n",
    "plt.axis('square')"
   ]
  },
  {
   "cell_type": "markdown",
   "metadata": {
    "colab_type": "text",
    "id": "oVYHWRFQqThT"
   },
   "source": [
    "> It seems that pie chart is not a good option here as it is not clearly showing security cancellations. I will try a bar chart instead."
   ]
  },
  {
   "cell_type": "code",
   "execution_count": 14,
   "metadata": {
    "colab": {
     "base_uri": "https://localhost:8080/",
     "height": 283
    },
    "colab_type": "code",
    "executionInfo": {
     "elapsed": 2338,
     "status": "ok",
     "timestamp": 1561574198571,
     "user": {
      "displayName": "Roshan Fernando",
      "photoUrl": "",
      "userId": "06143968698700038822"
     },
     "user_tz": 420
    },
    "id": "XuZHLNmGOlEh",
    "outputId": "b7364fbf-f875-4008-b7c2-edeee7ec41c4"
   },
   "outputs": [
    {
     "data": {
      "image/png": "[encoded data removed]",
      "text/plain": [
       "<Figure size 432x288 with 1 Axes>"
      ]
     },
     "metadata": {
      "tags": []
     },
     "output_type": "display_data"
    }
   ],
   "source": [
    "# Use descending order of number of schedulled flights\n",
    "order = df.CancellationCode.value_counts().index\n",
    "\n",
    "# Create a countplot for the column UniqueCarrier\n",
    "sb.countplot(data = df, x = 'CancellationCode', order = order);\n",
    "\n",
    "# Change x-axis label\n",
    "plt.xlabel('Cancellation Reason')\n",
    "\n",
    "# Change y-axis label\n",
    "plt.ylabel('Number of Flights Cancelled')\n",
    "\n",
    "# Change x-ticks\n",
    "ind = np.arange(4)\n",
    "plt.xticks(ind, ('Weather', 'Carrier', 'NAS', 'Security'))\n",
    "\n",
    "# Show percentages of flights schedulled by carriers\n",
    "code_counts = df.CancellationCode.value_counts()\n",
    "for i in range(code_counts.shape[0]):\n",
    "  count = code_counts[i]\n",
    "  pct_string = '{:0.2f}%'.format(100*count/df[df.Cancelled == 1].shape[0])\n",
    "  plt.text(i-0.25, count+400, pct_string, fontsize = 12);"
   ]
  },
  {
   "cell_type": "markdown",
   "metadata": {
    "colab_type": "text",
    "id": "H8ISPkdOqzYN"
   },
   "source": [
    "> The bar chart clearly shows the distribution of each cancellation catogories. Both carrier and weather cancellations are almost equal and top the chart. Carrier cancellations will be investigated further in order to figure out the cancellations by each carrier."
   ]
  },
  {
   "cell_type": "markdown",
   "metadata": {
    "colab_type": "text",
    "id": "cQK0Xnm9YksQ"
   },
   "source": [
    "### What is the distribution of Distance in the year 2008?"
   ]
  },
  {
   "cell_type": "markdown",
   "metadata": {
    "colab_type": "text",
    "id": "bdztae7UYxyp"
   },
   "source": [
    "> The Distance column shows the travel distance of the flights schedulled. They are reported in miles."
   ]
  },
  {
   "cell_type": "code",
   "execution_count": 15,
   "metadata": {
    "colab": {
     "base_uri": "https://localhost:8080/",
     "height": 300
    },
    "colab_type": "code",
    "executionInfo": {
     "elapsed": 2087,
     "status": "ok",
     "timestamp": 1561574202478,
     "user": {
      "displayName": "Roshan Fernando",
      "photoUrl": "",
      "userId": "06143968698700038822"
     },
     "user_tz": 420
    },
    "id": "3UVN7c5JZ6sd",
    "outputId": "f7069d67-1b01-4f5d-f2c8-8c5e8490c17f"
   },
   "outputs": [
    {
     "data": {
      "text/plain": [
       "(40, 2200)"
      ]
     },
     "execution_count": 15,
     "metadata": {
      "tags": []
     },
     "output_type": "execute_result"
    },
    {
     "data": {
      "image/png": "[encoded data removed]",
      "text/plain": [
       "<Figure size 432x288 with 1 Axes>"
      ]
     },
     "metadata": {
      "tags": []
     },
     "output_type": "display_data"
    }
   ],
   "source": [
    "plt.hist(data = df, x = 'Distance', bins = 500);\n",
    "plt.xscale('log')\n",
    "plt.xticks([50, 1e2, 2e2, 5e2, 1e3, 2e3], [50, '100', '200', '500', '1000', '2000'])\n",
    "plt.xlabel('Distance (miles)')\n",
    "plt.xlim(40, 2200)"
   ]
  },
  {
   "cell_type": "markdown",
   "metadata": {
    "colab_type": "text",
    "id": "rg-JT3VJsBhi"
   },
   "source": [
    "> Distribution of Distance is a normal distribution after applying log scale."
   ]
  },
  {
   "cell_type": "markdown",
   "metadata": {
    "colab_type": "text",
    "id": "kDeD6nvLgZAi"
   },
   "source": [
    "### What is the distribution of CarrierDelay in the year 2008?"
   ]
  },
  {
   "cell_type": "markdown",
   "metadata": {
    "colab_type": "text",
    "id": "ienW61D4gii5"
   },
   "source": [
    "> The CarrierDelay column in the data set shows the delay time in minutes for the schedulled flights due to carrier. "
   ]
  },
  {
   "cell_type": "code",
   "execution_count": 16,
   "metadata": {
    "colab": {
     "base_uri": "https://localhost:8080/",
     "height": 300
    },
    "colab_type": "code",
    "executionInfo": {
     "elapsed": 3126,
     "status": "ok",
     "timestamp": 1561574209725,
     "user": {
      "displayName": "Roshan Fernando",
      "photoUrl": "",
      "userId": "06143968698700038822"
     },
     "user_tz": 420
    },
    "id": "FXXoR9VXhF6M",
    "outputId": "26f7b4b0-681a-494d-dee5-71b1f61ae064"
   },
   "outputs": [
    {
     "data": {
      "text/plain": [
       "Text(0.5, 0, 'Delay (minutes)')"
      ]
     },
     "execution_count": 16,
     "metadata": {
      "tags": []
     },
     "output_type": "execute_result"
    },
    {
     "data": {
      "image/png": "[encoded data removed]",
      "text/plain": [
       "<Figure size 432x288 with 1 Axes>"
      ]
     },
     "metadata": {
      "tags": []
     },
     "output_type": "display_data"
    }
   ],
   "source": [
    "plt.hist(data = df[df.CarrierDelay > 0], x = 'CarrierDelay', bins = 800);\n",
    "plt.xscale('log')\n",
    "plt.xticks([1, 5, 10, 50, 100, 500, 1000], [1, 5, 10, 50, 100, 500, 1000])\n",
    "plt.xlabel('Delay (minutes)')"
   ]
  },
  {
   "cell_type": "markdown",
   "metadata": {
    "colab_type": "text",
    "id": "pgGpAx8PZbku"
   },
   "source": [
    "> The distribution of log values of flight delay times are right-skewed. Most delays occured are within 1 - 10 minutes."
   ]
  },
  {
   "cell_type": "markdown",
   "metadata": {
    "colab_type": "text",
    "id": "xNAn6fwQZbk7"
   },
   "source": [
    "### Discuss the distribution(s) of your variable(s) of interest. Were there any unusual points? Did you need to perform any transformations?\n",
    "\n",
    "> The distribution of UniqueCarrier is the main variable of interest. Considering the type of this variable, I believe the distribution is normal. The carrier Southwest Airline has more appearences in 2008, meaning they have the most flights schedulled, taking 17.1% overall. I could not find any unusual points here. The data did not need any transformations.\n",
    "\n",
    "### Of the features you investigated, were there any unusual distributions? Did you perform any operations on the data to tidy, adjust, or change the form of the data? If so, why did you do this?\n",
    "\n",
    "> I could not any unusual distributions among the features investigated. Again considering the type of this data set, I believe it is normal. However, the distributions of Distance and CarrierDelay were performed in 'log' scale to get a meaningful visualization."
   ]
  },
  {
   "cell_type": "markdown",
   "metadata": {
    "colab_type": "text",
    "id": "EjSiwJyGZbk-"
   },
   "source": [
    "## Bivariate Exploration\n",
    "\n",
    "> In this section, I will investigate relationships between pairs of variables in the flights\n",
    "data. First, I am going to make a data frame that include only the data need for this study. I will also create calculated columns in this data frame so that I can use it in multivariate exploration as well.\n",
    "> <br>The columns in this new data set will be as follows:\n",
    "- carrier_name --> the unique name of the carrier\n",
    "- num_schedulled --> the total number of flights schedulled by the carrier\n",
    "- num_cancelled --> the total number of flights cancelled by the carrier\n",
    "- num_delayed --> the total number of flights delayed by the carrier\n",
    "- total_delay --> the total delay in minutes by the carrier\n",
    "- total_distance --> the total distance in miles flew by the carrier\n",
    "\n",
    "> <br> after creating the data frame with the columns above, the following columns will be generated.\n",
    "- pct_cancelled --> the number of flights cancelled per 100 flights schedulled by the carrier\n",
    "- pct_delayed --> the number of flights delayed per 100 flights operated by the carrier\n",
    "- delay_per_flight -->  carrier delay in minutes per flight operated\n",
    "- delay_per_mile  --> carrier delay in minutes per 100 miles distance"
   ]
  },
  {
   "cell_type": "code",
   "execution_count": 17,
   "metadata": {
    "colab": {
     "base_uri": "https://localhost:8080/",
     "height": 374
    },
    "colab_type": "code",
    "executionInfo": {
     "elapsed": 829,
     "status": "ok",
     "timestamp": 1561574213745,
     "user": {
      "displayName": "Roshan Fernando",
      "photoUrl": "",
      "userId": "06143968698700038822"
     },
     "user_tz": 420
    },
    "id": "AZkjw_cZ6iRE",
    "outputId": "74457e5f-87cb-4896-efe2-9d574748bb93"
   },
   "outputs": [
    {
     "data": {
      "text/plain": [
       "Southwest             1201754\n",
       "American               604885\n",
       "Skywest                567159\n",
       "American Eagle         490693\n",
       "US                     453589\n",
       "Delta                  451931\n",
       "United                 449515\n",
       "Expressjet             374510\n",
       "Northwest              347652\n",
       "Continental            298455\n",
       "Atlantic Southeast     280575\n",
       "Pinnacle               262208\n",
       "AirTran                261684\n",
       "Mesa                   254930\n",
       "Comair                 197607\n",
       "JetBlue                196091\n",
       "Alaska                 151102\n",
       "Frontier                95762\n",
       "Hawaiian                61826\n",
       "Aloha                    7800\n",
       "Name: UniqueCarrier, dtype: int64"
      ]
     },
     "execution_count": 17,
     "metadata": {
      "tags": []
     },
     "output_type": "execute_result"
    }
   ],
   "source": [
    "# Extract the total number of flights schedulled by carriers\n",
    "s1 = df.UniqueCarrier.value_counts() # for the column 'num_schedulled'\n",
    "s1"
   ]
  },
  {
   "cell_type": "code",
   "execution_count": 18,
   "metadata": {
    "colab": {
     "base_uri": "https://localhost:8080/",
     "height": 374
    },
    "colab_type": "code",
    "executionInfo": {
     "elapsed": 416,
     "status": "ok",
     "timestamp": 1561574216230,
     "user": {
      "displayName": "Roshan Fernando",
      "photoUrl": "",
      "userId": "06143968698700038822"
     },
     "user_tz": 420
    },
    "id": "W659_lk97rN0",
    "outputId": "e4e8a6d7-ed59-45b9-c5ad-8c0590b4dd7d"
   },
   "outputs": [
    {
     "data": {
      "text/plain": [
       "American Eagle        18331\n",
       "American              17440\n",
       "Skywest               12436\n",
       "Southwest             12389\n",
       "United                10541\n",
       "Expressjet             9992\n",
       "Mesa                   9219\n",
       "Pinnacle               7100\n",
       "Delta                  6813\n",
       "US                     6582\n",
       "Comair                 6462\n",
       "Atlantic Southeast     5026\n",
       "Continental            3702\n",
       "JetBlue                3205\n",
       "Northwest              2906\n",
       "AirTran                2236\n",
       "Alaska                 2139\n",
       "Hawaiian                570\n",
       "Frontier                303\n",
       "Aloha                    42\n",
       "Name: UniqueCarrier, dtype: int64"
      ]
     },
     "execution_count": 18,
     "metadata": {
      "tags": []
     },
     "output_type": "execute_result"
    }
   ],
   "source": [
    "# Extract the total number of flights cancelled by the carrier\n",
    "s2 = df[df.Cancelled == 1].UniqueCarrier.value_counts() # for the column 'num_cancelled'\n",
    "s2"
   ]
  },
  {
   "cell_type": "code",
   "execution_count": 19,
   "metadata": {
    "colab": {
     "base_uri": "https://localhost:8080/",
     "height": 374
    },
    "colab_type": "code",
    "executionInfo": {
     "elapsed": 857,
     "status": "ok",
     "timestamp": 1561574219547,
     "user": {
      "displayName": "Roshan Fernando",
      "photoUrl": "",
      "userId": "06143968698700038822"
     },
     "user_tz": 420
    },
    "id": "9NUxXSQaCDN0",
    "outputId": "e9defc80-f920-4c67-d3b1-c02f22d0c214"
   },
   "outputs": [
    {
     "data": {
      "text/plain": [
       "Southwest             117195\n",
       "American               72843\n",
       "United                 46847\n",
       "American Eagle         44592\n",
       "Delta                  41296\n",
       "Skywest                39663\n",
       "US                     38134\n",
       "Atlantic Southeast     37398\n",
       "Northwest              36800\n",
       "Expressjet             34914\n",
       "Mesa                   30855\n",
       "Continental            28618\n",
       "JetBlue                21451\n",
       "Comair                 21308\n",
       "Pinnacle               16176\n",
       "AirTran                13943\n",
       "Alaska                 12374\n",
       "Frontier               11264\n",
       "Hawaiian                4718\n",
       "Aloha                    233\n",
       "Name: UniqueCarrier, dtype: int64"
      ]
     },
     "execution_count": 19,
     "metadata": {
      "tags": []
     },
     "output_type": "execute_result"
    }
   ],
   "source": [
    "# Extract the total number of flights delayed by the carrier\n",
    "s3 = df[df.CarrierDelay > 0].UniqueCarrier.value_counts() # for the column 'num_delayed'\n",
    "s3"
   ]
  },
  {
   "cell_type": "code",
   "execution_count": 20,
   "metadata": {
    "colab": {
     "base_uri": "https://localhost:8080/",
     "height": 391
    },
    "colab_type": "code",
    "executionInfo": {
     "elapsed": 651,
     "status": "ok",
     "timestamp": 1561574222599,
     "user": {
      "displayName": "Roshan Fernando",
      "photoUrl": "",
      "userId": "06143968698700038822"
     },
     "user_tz": 420
    },
    "id": "RvvMWa3oC5r4",
    "outputId": "a0d3fd8b-22e6-4133-8a64-87dfee38e765"
   },
   "outputs": [
    {
     "data": {
      "text/plain": [
       "UniqueCarrier\n",
       "AirTran                443708.0\n",
       "Alaska                 481833.0\n",
       "Aloha                    8727.0\n",
       "American              2821907.0\n",
       "American Eagle        1705271.0\n",
       "Atlantic Southeast    1688969.0\n",
       "Comair                1075766.0\n",
       "Continental            996161.0\n",
       "Delta                 1411220.0\n",
       "Expressjet            1218009.0\n",
       "Frontier               250971.0\n",
       "Hawaiian               184855.0\n",
       "JetBlue                677621.0\n",
       "Mesa                  1927740.0\n",
       "Northwest             1478247.0\n",
       "Pinnacle               908509.0\n",
       "Skywest               1678216.0\n",
       "Southwest             2261002.0\n",
       "US                    1109335.0\n",
       "United                1720150.0\n",
       "Name: CarrierDelay, dtype: float64"
      ]
     },
     "execution_count": 20,
     "metadata": {
      "tags": []
     },
     "output_type": "execute_result"
    }
   ],
   "source": [
    "# Get the total delay in minutes by the carrier by the carrier\n",
    "# Sum of CarrierDelay\n",
    "s4 = df.groupby(['UniqueCarrier']).CarrierDelay.sum() # for the column 'total_delay'\n",
    "s4"
   ]
  },
  {
   "cell_type": "code",
   "execution_count": 21,
   "metadata": {
    "colab": {
     "base_uri": "https://localhost:8080/",
     "height": 391
    },
    "colab_type": "code",
    "executionInfo": {
     "elapsed": 2341,
     "status": "ok",
     "timestamp": 1561574227351,
     "user": {
      "displayName": "Roshan Fernando",
      "photoUrl": "",
      "userId": "06143968698700038822"
     },
     "user_tz": 420
    },
    "id": "MI-U594l8ebF",
    "outputId": "a844f92c-694f-41a6-b86d-98169d382db6"
   },
   "outputs": [
    {
     "data": {
      "text/plain": [
       "UniqueCarrier\n",
       "AirTran               188830439\n",
       "Alaska                143071050\n",
       "Aloha                   3295411\n",
       "American              620867393\n",
       "American Eagle        194707043\n",
       "Atlantic Southeast    122307769\n",
       "Comair                 93273693\n",
       "Continental           340690577\n",
       "Delta                 412102226\n",
       "Expressjet            215287217\n",
       "Frontier               84035990\n",
       "Hawaiian               34562911\n",
       "JetBlue               212671088\n",
       "Mesa                   96986502\n",
       "Northwest             277844318\n",
       "Pinnacle              115085239\n",
       "Skywest               239289236\n",
       "Southwest             756840555\n",
       "US                    384276631\n",
       "United                475895169\n",
       "Name: Distance, dtype: int64"
      ]
     },
     "execution_count": 21,
     "metadata": {
      "tags": []
     },
     "output_type": "execute_result"
    }
   ],
   "source": [
    "# Get the total distance flew by the carrier\n",
    "# Sum of distances of all operated (not cancelled) flights\n",
    "s5 = df[df.Cancelled == 0].groupby(['UniqueCarrier']).Distance.sum()\n",
    "s5"
   ]
  },
  {
   "cell_type": "code",
   "execution_count": 22,
   "metadata": {
    "colab": {
     "base_uri": "https://localhost:8080/",
     "height": 669
    },
    "colab_type": "code",
    "executionInfo": {
     "elapsed": 449,
     "status": "ok",
     "timestamp": 1561574228735,
     "user": {
      "displayName": "Roshan Fernando",
      "photoUrl": "",
      "userId": "06143968698700038822"
     },
     "user_tz": 420
    },
    "id": "4AUunQRM_xmM",
    "outputId": "2188d7ab-f3aa-4923-c286-891dfa269424"
   },
   "outputs": [
    {
     "data": {
      "text/html": [
       "<div>\n",
       "<style scoped>\n",
       "    .dataframe tbody tr th:only-of-type {\n",
       "        vertical-align: middle;\n",
       "    }\n",
       "\n",
       "    .dataframe tbody tr th {\n",
       "        vertical-align: top;\n",
       "    }\n",
       "\n",
       "    .dataframe thead th {\n",
       "        text-align: right;\n",
       "    }\n",
       "</style>\n",
       "<table border=\"1\" class=\"dataframe\">\n",
       "  <thead>\n",
       "    <tr style=\"text-align: right;\">\n",
       "      <th></th>\n",
       "      <th>index</th>\n",
       "      <th>num_schedulled</th>\n",
       "      <th>num_cancelled</th>\n",
       "      <th>num_delayed</th>\n",
       "      <th>total_delay</th>\n",
       "      <th>total_distance</th>\n",
       "    </tr>\n",
       "  </thead>\n",
       "  <tbody>\n",
       "    <tr>\n",
       "      <th>0</th>\n",
       "      <td>Southwest</td>\n",
       "      <td>1201754</td>\n",
       "      <td>12389</td>\n",
       "      <td>117195</td>\n",
       "      <td>2261002.0</td>\n",
       "      <td>756840555</td>\n",
       "    </tr>\n",
       "    <tr>\n",
       "      <th>1</th>\n",
       "      <td>American</td>\n",
       "      <td>604885</td>\n",
       "      <td>17440</td>\n",
       "      <td>72843</td>\n",
       "      <td>2821907.0</td>\n",
       "      <td>620867393</td>\n",
       "    </tr>\n",
       "    <tr>\n",
       "      <th>2</th>\n",
       "      <td>Skywest</td>\n",
       "      <td>567159</td>\n",
       "      <td>12436</td>\n",
       "      <td>39663</td>\n",
       "      <td>1678216.0</td>\n",
       "      <td>239289236</td>\n",
       "    </tr>\n",
       "    <tr>\n",
       "      <th>3</th>\n",
       "      <td>American Eagle</td>\n",
       "      <td>490693</td>\n",
       "      <td>18331</td>\n",
       "      <td>44592</td>\n",
       "      <td>1705271.0</td>\n",
       "      <td>194707043</td>\n",
       "    </tr>\n",
       "    <tr>\n",
       "      <th>4</th>\n",
       "      <td>US</td>\n",
       "      <td>453589</td>\n",
       "      <td>6582</td>\n",
       "      <td>38134</td>\n",
       "      <td>1109335.0</td>\n",
       "      <td>384276631</td>\n",
       "    </tr>\n",
       "    <tr>\n",
       "      <th>5</th>\n",
       "      <td>Delta</td>\n",
       "      <td>451931</td>\n",
       "      <td>6813</td>\n",
       "      <td>41296</td>\n",
       "      <td>1411220.0</td>\n",
       "      <td>412102226</td>\n",
       "    </tr>\n",
       "    <tr>\n",
       "      <th>6</th>\n",
       "      <td>United</td>\n",
       "      <td>449515</td>\n",
       "      <td>10541</td>\n",
       "      <td>46847</td>\n",
       "      <td>1720150.0</td>\n",
       "      <td>475895169</td>\n",
       "    </tr>\n",
       "    <tr>\n",
       "      <th>7</th>\n",
       "      <td>Expressjet</td>\n",
       "      <td>374510</td>\n",
       "      <td>9992</td>\n",
       "      <td>34914</td>\n",
       "      <td>1218009.0</td>\n",
       "      <td>215287217</td>\n",
       "    </tr>\n",
       "    <tr>\n",
       "      <th>8</th>\n",
       "      <td>Northwest</td>\n",
       "      <td>347652</td>\n",
       "      <td>2906</td>\n",
       "      <td>36800</td>\n",
       "      <td>1478247.0</td>\n",
       "      <td>277844318</td>\n",
       "    </tr>\n",
       "    <tr>\n",
       "      <th>9</th>\n",
       "      <td>Continental</td>\n",
       "      <td>298455</td>\n",
       "      <td>3702</td>\n",
       "      <td>28618</td>\n",
       "      <td>996161.0</td>\n",
       "      <td>340690577</td>\n",
       "    </tr>\n",
       "    <tr>\n",
       "      <th>10</th>\n",
       "      <td>Atlantic Southeast</td>\n",
       "      <td>280575</td>\n",
       "      <td>5026</td>\n",
       "      <td>37398</td>\n",
       "      <td>1688969.0</td>\n",
       "      <td>122307769</td>\n",
       "    </tr>\n",
       "    <tr>\n",
       "      <th>11</th>\n",
       "      <td>Pinnacle</td>\n",
       "      <td>262208</td>\n",
       "      <td>7100</td>\n",
       "      <td>16176</td>\n",
       "      <td>908509.0</td>\n",
       "      <td>115085239</td>\n",
       "    </tr>\n",
       "    <tr>\n",
       "      <th>12</th>\n",
       "      <td>AirTran</td>\n",
       "      <td>261684</td>\n",
       "      <td>2236</td>\n",
       "      <td>13943</td>\n",
       "      <td>443708.0</td>\n",
       "      <td>188830439</td>\n",
       "    </tr>\n",
       "    <tr>\n",
       "      <th>13</th>\n",
       "      <td>Mesa</td>\n",
       "      <td>254930</td>\n",
       "      <td>9219</td>\n",
       "      <td>30855</td>\n",
       "      <td>1927740.0</td>\n",
       "      <td>96986502</td>\n",
       "    </tr>\n",
       "    <tr>\n",
       "      <th>14</th>\n",
       "      <td>Comair</td>\n",
       "      <td>197607</td>\n",
       "      <td>6462</td>\n",
       "      <td>21308</td>\n",
       "      <td>1075766.0</td>\n",
       "      <td>93273693</td>\n",
       "    </tr>\n",
       "    <tr>\n",
       "      <th>15</th>\n",
       "      <td>JetBlue</td>\n",
       "      <td>196091</td>\n",
       "      <td>3205</td>\n",
       "      <td>21451</td>\n",
       "      <td>677621.0</td>\n",
       "      <td>212671088</td>\n",
       "    </tr>\n",
       "    <tr>\n",
       "      <th>16</th>\n",
       "      <td>Alaska</td>\n",
       "      <td>151102</td>\n",
       "      <td>2139</td>\n",
       "      <td>12374</td>\n",
       "      <td>481833.0</td>\n",
       "      <td>143071050</td>\n",
       "    </tr>\n",
       "    <tr>\n",
       "      <th>17</th>\n",
       "      <td>Frontier</td>\n",
       "      <td>95762</td>\n",
       "      <td>303</td>\n",
       "      <td>11264</td>\n",
       "      <td>250971.0</td>\n",
       "      <td>84035990</td>\n",
       "    </tr>\n",
       "    <tr>\n",
       "      <th>18</th>\n",
       "      <td>Hawaiian</td>\n",
       "      <td>61826</td>\n",
       "      <td>570</td>\n",
       "      <td>4718</td>\n",
       "      <td>184855.0</td>\n",
       "      <td>34562911</td>\n",
       "    </tr>\n",
       "    <tr>\n",
       "      <th>19</th>\n",
       "      <td>Aloha</td>\n",
       "      <td>7800</td>\n",
       "      <td>42</td>\n",
       "      <td>233</td>\n",
       "      <td>8727.0</td>\n",
       "      <td>3295411</td>\n",
       "    </tr>\n",
       "  </tbody>\n",
       "</table>\n",
       "</div>"
      ],
      "text/plain": [
       "                 index  num_schedulled  ...  total_delay  total_distance\n",
       "0            Southwest         1201754  ...    2261002.0       756840555\n",
       "1             American          604885  ...    2821907.0       620867393\n",
       "2              Skywest          567159  ...    1678216.0       239289236\n",
       "3       American Eagle          490693  ...    1705271.0       194707043\n",
       "4                   US          453589  ...    1109335.0       384276631\n",
       "5                Delta          451931  ...    1411220.0       412102226\n",
       "6               United          449515  ...    1720150.0       475895169\n",
       "7           Expressjet          374510  ...    1218009.0       215287217\n",
       "8            Northwest          347652  ...    1478247.0       277844318\n",
       "9          Continental          298455  ...     996161.0       340690577\n",
       "10  Atlantic Southeast          280575  ...    1688969.0       122307769\n",
       "11            Pinnacle          262208  ...     908509.0       115085239\n",
       "12             AirTran          261684  ...     443708.0       188830439\n",
       "13                Mesa          254930  ...    1927740.0        96986502\n",
       "14              Comair          197607  ...    1075766.0        93273693\n",
       "15             JetBlue          196091  ...     677621.0       212671088\n",
       "16              Alaska          151102  ...     481833.0       143071050\n",
       "17            Frontier           95762  ...     250971.0        84035990\n",
       "18            Hawaiian           61826  ...     184855.0        34562911\n",
       "19               Aloha            7800  ...       8727.0         3295411\n",
       "\n",
       "[20 rows x 6 columns]"
      ]
     },
     "execution_count": 22,
     "metadata": {
      "tags": []
     },
     "output_type": "execute_result"
    }
   ],
   "source": [
    "# Concat all of the above five series into a data frame\n",
    "df_f = pd.concat((s1.rename('num_schedulled'),\n",
    "                  s2.rename('num_cancelled'),\n",
    "                  s3.rename('num_delayed'),\n",
    "                  s4.rename('total_delay'),\n",
    "                  s5.rename('total_distance')),\n",
    "                  axis=1,\n",
    "                  sort = False).reset_index()\n",
    "df_f"
   ]
  },
  {
   "cell_type": "code",
   "execution_count": 0,
   "metadata": {
    "colab": {},
    "colab_type": "code",
    "id": "WJShFlBcdGF_"
   },
   "outputs": [],
   "source": [
    "# Add column 'pct_cancelled'\n",
    "# The number of flights cancelled per 100 flights schedulled by the carrier\n",
    "\n",
    "df_f['pct_cancelled'] = (df_f.num_cancelled / df_f.num_schedulled) * 100"
   ]
  },
  {
   "cell_type": "code",
   "execution_count": 0,
   "metadata": {
    "colab": {},
    "colab_type": "code",
    "id": "fSIk9XOxePK-"
   },
   "outputs": [],
   "source": [
    "# Add column 'pct_delayed'\n",
    "# The number of flights delayed per 100 flights operated by the carrier\n",
    "\n",
    "df_f['pct_delayed'] = (df_f.num_delayed / (df_f.num_schedulled - df_f.num_cancelled)) * 100"
   ]
  },
  {
   "cell_type": "code",
   "execution_count": 0,
   "metadata": {
    "colab": {},
    "colab_type": "code",
    "id": "OPpXZETJgULi"
   },
   "outputs": [],
   "source": [
    "# Add column 'delay_per_flight'\n",
    "# carrier delay in minutes per flight operated\n",
    "\n",
    "df_f['delay_per_flight'] = (df_f.total_delay / (df_f.num_schedulled - df_f.num_cancelled))"
   ]
  },
  {
   "cell_type": "code",
   "execution_count": 0,
   "metadata": {
    "colab": {},
    "colab_type": "code",
    "id": "JN-sHipkg57x"
   },
   "outputs": [],
   "source": [
    "# Add column 'delay_per_mile'\n",
    "# carrier delay in minutes per mile distance\n",
    "\n",
    "df_f['delay_per_mile'] = (df_f.total_delay / df_f.total_distance)"
   ]
  },
  {
   "cell_type": "code",
   "execution_count": 0,
   "metadata": {
    "colab": {},
    "colab_type": "code",
    "id": "0AaK9M4GcZbX"
   },
   "outputs": [],
   "source": [
    "df_f.rename({'index':'carrier_name'}, axis = 'columns', inplace = True)"
   ]
  },
  {
   "cell_type": "code",
   "execution_count": 28,
   "metadata": {
    "colab": {
     "base_uri": "https://localhost:8080/",
     "height": 272
    },
    "colab_type": "code",
    "executionInfo": {
     "elapsed": 446,
     "status": "ok",
     "timestamp": 1561574237929,
     "user": {
      "displayName": "Roshan Fernando",
      "photoUrl": "",
      "userId": "06143968698700038822"
     },
     "user_tz": 420
    },
    "id": "cTdTxZHGbsX3",
    "outputId": "1f9d0b80-1514-483c-b28c-6582f1f2d375"
   },
   "outputs": [
    {
     "name": "stdout",
     "output_type": "stream",
     "text": [
      "<class 'pandas.core.frame.DataFrame'>\n",
      "RangeIndex: 20 entries, 0 to 19\n",
      "Data columns (total 10 columns):\n",
      "carrier_name        20 non-null object\n",
      "num_schedulled      20 non-null int64\n",
      "num_cancelled       20 non-null int64\n",
      "num_delayed         20 non-null int64\n",
      "total_delay         20 non-null float64\n",
      "total_distance      20 non-null int64\n",
      "pct_cancelled       20 non-null float64\n",
      "pct_delayed         20 non-null float64\n",
      "delay_per_flight    20 non-null float64\n",
      "delay_per_mile      20 non-null float64\n",
      "dtypes: float64(5), int64(4), object(1)\n",
      "memory usage: 1.6+ KB\n"
     ]
    }
   ],
   "source": [
    "df_f.info()"
   ]
  },
  {
   "cell_type": "code",
   "execution_count": 0,
   "metadata": {
    "colab": {},
    "colab_type": "code",
    "id": "EDj_cWqbh33h"
   },
   "outputs": [],
   "source": [
    "# Save this data frame as a csv file\n",
    "df_f.to_csv('carrier_sorted_2008.csv')"
   ]
  },
  {
   "cell_type": "code",
   "execution_count": 0,
   "metadata": {
    "colab": {
     "base_uri": "https://localhost:8080/",
     "height": 1000
    },
    "colab_type": "code",
    "id": "kMHs4k-F5jFO",
    "outputId": "6a7f8470-4a38-4809-c31d-12b2d108e91e"
   },
   "outputs": [
    {
     "data": {
      "image/png": "[encoded data removed]",
      "text/plain": [
       "<Figure size 1620x1620 with 90 Axes>"
      ]
     },
     "metadata": {
      "tags": []
     },
     "output_type": "display_data"
    }
   ],
   "source": [
    "sb.pairplot(df_f);"
   ]
  },
  {
   "cell_type": "code",
   "execution_count": 0,
   "metadata": {
    "colab": {
     "base_uri": "https://localhost:8080/",
     "height": 318
    },
    "colab_type": "code",
    "id": "CY0ooPqy7u3n",
    "outputId": "e7717d7f-58dc-46de-e5f7-9052602ddef9"
   },
   "outputs": [
    {
     "data": {
      "text/html": [
       "<div>\n",
       "<style scoped>\n",
       "    .dataframe tbody tr th:only-of-type {\n",
       "        vertical-align: middle;\n",
       "    }\n",
       "\n",
       "    .dataframe tbody tr th {\n",
       "        vertical-align: top;\n",
       "    }\n",
       "\n",
       "    .dataframe thead th {\n",
       "        text-align: right;\n",
       "    }\n",
       "</style>\n",
       "<table border=\"1\" class=\"dataframe\">\n",
       "  <thead>\n",
       "    <tr style=\"text-align: right;\">\n",
       "      <th></th>\n",
       "      <th>num_schedulled</th>\n",
       "      <th>num_cancelled</th>\n",
       "      <th>num_delayed</th>\n",
       "      <th>total_delay</th>\n",
       "      <th>total_distance</th>\n",
       "      <th>pct_cancelled</th>\n",
       "      <th>pct_delayed</th>\n",
       "      <th>delay_per_flight</th>\n",
       "      <th>delay_per_mile</th>\n",
       "    </tr>\n",
       "  </thead>\n",
       "  <tbody>\n",
       "    <tr>\n",
       "      <th>num_schedulled</th>\n",
       "      <td>1.000000</td>\n",
       "      <td>0.698857</td>\n",
       "      <td>0.965098</td>\n",
       "      <td>0.758019</td>\n",
       "      <td>0.871275</td>\n",
       "      <td>0.156538</td>\n",
       "      <td>0.193153</td>\n",
       "      <td>-0.098696</td>\n",
       "      <td>-0.112013</td>\n",
       "    </tr>\n",
       "    <tr>\n",
       "      <th>num_cancelled</th>\n",
       "      <td>0.698857</td>\n",
       "      <td>1.000000</td>\n",
       "      <td>0.702816</td>\n",
       "      <td>0.843553</td>\n",
       "      <td>0.559852</td>\n",
       "      <td>0.729877</td>\n",
       "      <td>0.286605</td>\n",
       "      <td>0.257686</td>\n",
       "      <td>0.241837</td>\n",
       "    </tr>\n",
       "    <tr>\n",
       "      <th>num_delayed</th>\n",
       "      <td>0.965098</td>\n",
       "      <td>0.702816</td>\n",
       "      <td>1.000000</td>\n",
       "      <td>0.836033</td>\n",
       "      <td>0.892667</td>\n",
       "      <td>0.190134</td>\n",
       "      <td>0.378645</td>\n",
       "      <td>0.053530</td>\n",
       "      <td>-0.033507</td>\n",
       "    </tr>\n",
       "    <tr>\n",
       "      <th>total_delay</th>\n",
       "      <td>0.758019</td>\n",
       "      <td>0.843553</td>\n",
       "      <td>0.836033</td>\n",
       "      <td>1.000000</td>\n",
       "      <td>0.702498</td>\n",
       "      <td>0.555724</td>\n",
       "      <td>0.560092</td>\n",
       "      <td>0.484199</td>\n",
       "      <td>0.341482</td>\n",
       "    </tr>\n",
       "    <tr>\n",
       "      <th>total_distance</th>\n",
       "      <td>0.871275</td>\n",
       "      <td>0.559852</td>\n",
       "      <td>0.892667</td>\n",
       "      <td>0.702498</td>\n",
       "      <td>1.000000</td>\n",
       "      <td>0.011261</td>\n",
       "      <td>0.261370</td>\n",
       "      <td>-0.133167</td>\n",
       "      <td>-0.357897</td>\n",
       "    </tr>\n",
       "    <tr>\n",
       "      <th>pct_cancelled</th>\n",
       "      <td>0.156538</td>\n",
       "      <td>0.729877</td>\n",
       "      <td>0.190134</td>\n",
       "      <td>0.555724</td>\n",
       "      <td>0.011261</td>\n",
       "      <td>1.000000</td>\n",
       "      <td>0.341493</td>\n",
       "      <td>0.654483</td>\n",
       "      <td>0.660523</td>\n",
       "    </tr>\n",
       "    <tr>\n",
       "      <th>pct_delayed</th>\n",
       "      <td>0.193153</td>\n",
       "      <td>0.286605</td>\n",
       "      <td>0.378645</td>\n",
       "      <td>0.560092</td>\n",
       "      <td>0.261370</td>\n",
       "      <td>0.341493</td>\n",
       "      <td>1.000000</td>\n",
       "      <td>0.729761</td>\n",
       "      <td>0.441581</td>\n",
       "    </tr>\n",
       "    <tr>\n",
       "      <th>delay_per_flight</th>\n",
       "      <td>-0.098696</td>\n",
       "      <td>0.257686</td>\n",
       "      <td>0.053530</td>\n",
       "      <td>0.484199</td>\n",
       "      <td>-0.133167</td>\n",
       "      <td>0.654483</td>\n",
       "      <td>0.729761</td>\n",
       "      <td>1.000000</td>\n",
       "      <td>0.866940</td>\n",
       "    </tr>\n",
       "    <tr>\n",
       "      <th>delay_per_mile</th>\n",
       "      <td>-0.112013</td>\n",
       "      <td>0.241837</td>\n",
       "      <td>-0.033507</td>\n",
       "      <td>0.341482</td>\n",
       "      <td>-0.357897</td>\n",
       "      <td>0.660523</td>\n",
       "      <td>0.441581</td>\n",
       "      <td>0.866940</td>\n",
       "      <td>1.000000</td>\n",
       "    </tr>\n",
       "  </tbody>\n",
       "</table>\n",
       "</div>"
      ],
      "text/plain": [
       "                  num_schedulled  ...  delay_per_mile\n",
       "num_schedulled          1.000000  ...       -0.112013\n",
       "num_cancelled           0.698857  ...        0.241837\n",
       "num_delayed             0.965098  ...       -0.033507\n",
       "total_delay             0.758019  ...        0.341482\n",
       "total_distance          0.871275  ...       -0.357897\n",
       "pct_cancelled           0.156538  ...        0.660523\n",
       "pct_delayed             0.193153  ...        0.441581\n",
       "delay_per_flight       -0.098696  ...        0.866940\n",
       "delay_per_mile         -0.112013  ...        1.000000\n",
       "\n",
       "[9 rows x 9 columns]"
      ]
     },
     "execution_count": 61,
     "metadata": {
      "tags": []
     },
     "output_type": "execute_result"
    }
   ],
   "source": [
    "df_f.corr()"
   ]
  },
  {
   "cell_type": "markdown",
   "metadata": {
    "colab_type": "text",
    "id": "KxowLG9vEDEh"
   },
   "source": [
    "### How many flights have been cancelled by each carrier in the 2008 and How is it compare to each other carriers?"
   ]
  },
  {
   "cell_type": "code",
   "execution_count": 0,
   "metadata": {
    "colab": {
     "base_uri": "https://localhost:8080/",
     "height": 269
    },
    "colab_type": "code",
    "id": "y-aWunD-4SwP",
    "outputId": "c0f73cfe-6d8c-4d16-9bf3-268492051290"
   },
   "outputs": [
    {
     "data": {
      "image/png": "[encoded data removed]",
      "text/plain": [
       "<Figure size 432x288 with 1 Axes>"
      ]
     },
     "metadata": {
      "tags": []
     },
     "output_type": "display_data"
    }
   ],
   "source": [
    "# The relationship between num_schedulled vs. num_cancelled\n",
    "plt.scatter(data = df_f, x = 'num_schedulled', y = 'num_cancelled');"
   ]
  },
  {
   "cell_type": "markdown",
   "metadata": {
    "colab_type": "text",
    "id": "sK8KppJe5EDN"
   },
   "source": [
    "> There is no strong correlation between the number of schedulled flights vs. the number of cancelled flights. The correlation coefficient is moderate with a value of 0.7. This means that the carrier cancellations is a strong factor deciding the carrier performances."
   ]
  },
  {
   "cell_type": "code",
   "execution_count": 0,
   "metadata": {
    "colab": {
     "base_uri": "https://localhost:8080/",
     "height": 301
    },
    "colab_type": "code",
    "id": "J1D3QR4LXOwN",
    "outputId": "3a2811b6-f0f5-49a3-c2d0-062f71b56bd9"
   },
   "outputs": [
    {
     "data": {
      "text/plain": [
       "<matplotlib.axes._subplots.AxesSubplot at 0x7f831823bac8>"
      ]
     },
     "execution_count": 33,
     "metadata": {
      "tags": []
     },
     "output_type": "execute_result"
    },
    {
     "data": {
      "image/png": "[encoded data removed]",
      "text/plain": [
       "<Figure size 432x288 with 1 Axes>"
      ]
     },
     "metadata": {
      "tags": []
     },
     "output_type": "display_data"
    }
   ],
   "source": [
    "# Plot num_cancelled for each carrier\n",
    "base_color = sb.color_palette()[0]\n",
    "cancelled = df_f.sort_values('num_cancelled', ascending = False)\n",
    "cancelled\n",
    "sb.barplot(x = 'num_cancelled', y = 'carrier_name', data = cancelled, color = base_color)"
   ]
  },
  {
   "cell_type": "markdown",
   "metadata": {
    "colab_type": "text",
    "id": "QqpeavC06M6s"
   },
   "source": [
    "> American Eagle and American airlines top the chart for most number of cancellations. However, I will see the number of cancellations per 100 schedulled flights (pct_cancelled) for each carrier to make it more meaningful to rate carriers."
   ]
  },
  {
   "cell_type": "code",
   "execution_count": 0,
   "metadata": {
    "colab": {
     "base_uri": "https://localhost:8080/",
     "height": 301
    },
    "colab_type": "code",
    "id": "UbMmdimCE3gB",
    "outputId": "02918430-a996-4c28-81a7-1ebfbb246056"
   },
   "outputs": [
    {
     "data": {
      "text/plain": [
       "<matplotlib.axes._subplots.AxesSubplot at 0x7f8316749b70>"
      ]
     },
     "execution_count": 34,
     "metadata": {
      "tags": []
     },
     "output_type": "execute_result"
    },
    {
     "data": {
      "image/png": "[encoded data removed]",
      "text/plain": [
       "<Figure size 432x288 with 1 Axes>"
      ]
     },
     "metadata": {
      "tags": []
     },
     "output_type": "display_data"
    }
   ],
   "source": [
    "# Plot pct_cancelled for each carrier\n",
    "base_color = sb.color_palette()[0]\n",
    "pct_cancelled = df_f.sort_values('pct_cancelled', ascending = False)\n",
    "sb.barplot(x = 'pct_cancelled', y = 'carrier_name', data = pct_cancelled, color = base_color)"
   ]
  },
  {
   "cell_type": "markdown",
   "metadata": {
    "colab_type": "text",
    "id": "cupHoAB27KZo"
   },
   "source": [
    "> American Eagle still top the chart for percent cancellations, however Mesa airline became second. I will use pct_cancelled as a key factor to decide the carrier performances."
   ]
  },
  {
   "cell_type": "markdown",
   "metadata": {
    "colab_type": "text",
    "id": "Sxa7fQyIkdjU"
   },
   "source": [
    "### How many flights have been delayed by each carrier in the 2008 and How is it compare to each other carriers?"
   ]
  },
  {
   "cell_type": "code",
   "execution_count": 0,
   "metadata": {
    "colab": {
     "base_uri": "https://localhost:8080/",
     "height": 269
    },
    "colab_type": "code",
    "id": "rnvY64wu8FsW",
    "outputId": "7f719573-fbf8-4c63-e77a-0ca7f3500f6a"
   },
   "outputs": [
    {
     "data": {
      "image/png": "[encoded data removed]",
      "text/plain": [
       "<Figure size 432x288 with 1 Axes>"
      ]
     },
     "metadata": {
      "tags": []
     },
     "output_type": "display_data"
    }
   ],
   "source": [
    "# The relationship between num_schedulled vs. num_delayed\n",
    "plt.scatter(data = df_f, x = 'num_schedulled', y = 'num_delayed');"
   ]
  },
  {
   "cell_type": "markdown",
   "metadata": {
    "colab_type": "text",
    "id": "qfDyIMG08VMp"
   },
   "source": [
    "> There is linear relationship between num_delayed and num_schedulled flights. The correlation coefficient for this is 0.97. Therefore the num_delayed by each carrier should probably follow the same trend (order) as in the case of num_schedulled flights."
   ]
  },
  {
   "cell_type": "code",
   "execution_count": 0,
   "metadata": {
    "colab": {
     "base_uri": "https://localhost:8080/",
     "height": 301
    },
    "colab_type": "code",
    "id": "528xiMHukpXn",
    "outputId": "e83348da-dbc9-411f-9174-8488e8108c61"
   },
   "outputs": [
    {
     "data": {
      "text/plain": [
       "<matplotlib.axes._subplots.AxesSubplot at 0x7f83165bddd8>"
      ]
     },
     "execution_count": 36,
     "metadata": {
      "tags": []
     },
     "output_type": "execute_result"
    },
    {
     "data": {
      "image/png": "[encoded data removed]",
      "text/plain": [
       "<Figure size 432x288 with 1 Axes>"
      ]
     },
     "metadata": {
      "tags": []
     },
     "output_type": "display_data"
    }
   ],
   "source": [
    "base_color = sb.color_palette()[0]\n",
    "delayed = df_f.sort_values('num_delayed', ascending = False)\n",
    "sb.barplot(x = 'num_delayed', y = 'carrier_name', data = delayed, color = base_color)"
   ]
  },
  {
   "cell_type": "markdown",
   "metadata": {
    "colab_type": "text",
    "id": "SQwt0qMtuwOk"
   },
   "source": [
    "> As expected, the descending order of carrier names for num_delayed more closely follow the descending order of num_schedulled, however there are few differences. I am not going to explore deep in these differences and instead I am going to see how each carrier's number of delayed flights for 100 flights operated (pct_delayed)."
   ]
  },
  {
   "cell_type": "code",
   "execution_count": 0,
   "metadata": {
    "colab": {
     "base_uri": "https://localhost:8080/",
     "height": 301
    },
    "colab_type": "code",
    "id": "hh-_syKSlyE6",
    "outputId": "33aea8cb-7cf6-4195-bd1d-d6f856af0949"
   },
   "outputs": [
    {
     "data": {
      "text/plain": [
       "<matplotlib.axes._subplots.AxesSubplot at 0x7f83165691d0>"
      ]
     },
     "execution_count": 37,
     "metadata": {
      "tags": []
     },
     "output_type": "execute_result"
    },
    {
     "data": {
      "image/png": "[encoded data removed]",
      "text/plain": [
       "<Figure size 432x288 with 1 Axes>"
      ]
     },
     "metadata": {
      "tags": []
     },
     "output_type": "display_data"
    }
   ],
   "source": [
    "base_color = sb.color_palette()[0]\n",
    "pct_delayed = df_f.sort_values('pct_delayed', ascending = False)\n",
    "sb.barplot(x = 'pct_delayed', y = 'carrier_name', data = pct_delayed, color = base_color)"
   ]
  },
  {
   "cell_type": "markdown",
   "metadata": {
    "colab_type": "text",
    "id": "7IldJA7uv1s6"
   },
   "source": [
    "> This is interesting that the order of carriers changed dramatically. Atlantic Southwest Airlines has the highest percentage close to 14 % and the lowest is about 3% for Aloha Airlines. This is a good parameter for rating carrier performances."
   ]
  },
  {
   "cell_type": "markdown",
   "metadata": {
    "colab_type": "text",
    "id": "W913F1T8zOi-"
   },
   "source": [
    "### What is the delay per flight operated by each carrier?"
   ]
  },
  {
   "cell_type": "code",
   "execution_count": 0,
   "metadata": {
    "colab": {
     "base_uri": "https://localhost:8080/",
     "height": 301
    },
    "colab_type": "code",
    "id": "qVpe0-bmn9rO",
    "outputId": "32045c19-a355-415e-ba9b-66c4a72b5f94"
   },
   "outputs": [
    {
     "data": {
      "text/plain": [
       "<matplotlib.axes._subplots.AxesSubplot at 0x7f8316515e80>"
      ]
     },
     "execution_count": 38,
     "metadata": {
      "tags": []
     },
     "output_type": "execute_result"
    },
    {
     "data": {
      "image/png": "[encoded data removed]",
      "text/plain": [
       "<Figure size 432x288 with 1 Axes>"
      ]
     },
     "metadata": {
      "tags": []
     },
     "output_type": "display_data"
    }
   ],
   "source": [
    "base_color = sb.color_palette()[0]\n",
    "delay_pf = df_f.sort_values('delay_per_flight', ascending = False)\n",
    "sb.barplot(x = 'delay_per_flight', y = 'carrier_name', data = delay_pf, color = base_color)"
   ]
  },
  {
   "cell_type": "markdown",
   "metadata": {
    "colab_type": "text",
    "id": "v0n3USvk0epH"
   },
   "source": [
    "> The delay_per_flight means the delay in minutes per a flight operated by the carrier. Mesa Airlines has the higest value of almost 8 minutes of delay. This means one can expect 8 min delay for flights operated by this carrier. This is another key parameter I would like to consider for ratings."
   ]
  },
  {
   "cell_type": "markdown",
   "metadata": {
    "colab_type": "text",
    "id": "yRudQdq90M21"
   },
   "source": [
    "### What is the delay per mile flew by each carrier?"
   ]
  },
  {
   "cell_type": "code",
   "execution_count": 0,
   "metadata": {
    "colab": {
     "base_uri": "https://localhost:8080/",
     "height": 301
    },
    "colab_type": "code",
    "id": "a6mdbyCW0Kk3",
    "outputId": "c1b7e08b-ee02-4bfc-9bd3-38b1e12344f3"
   },
   "outputs": [
    {
     "data": {
      "text/plain": [
       "<matplotlib.axes._subplots.AxesSubplot at 0x7f831643c208>"
      ]
     },
     "execution_count": 39,
     "metadata": {
      "tags": []
     },
     "output_type": "execute_result"
    },
    {
     "data": {
      "image/png": "[encoded data removed]",
      "text/plain": [
       "<Figure size 432x288 with 1 Axes>"
      ]
     },
     "metadata": {
      "tags": []
     },
     "output_type": "display_data"
    }
   ],
   "source": [
    "base_color = sb.color_palette()[0]\n",
    "delay_pm = df_f.sort_values('delay_per_mile', ascending = False)\n",
    "sb.barplot(x = 'delay_per_mile', y = 'carrier_name', data = delay_pm, color = base_color)"
   ]
  },
  {
   "cell_type": "markdown",
   "metadata": {
    "colab_type": "text",
    "id": "W1KCNbyv5iW-"
   },
   "source": [
    "> Here, the order of carriers changed except for the top three compared to delay_per_flight. My intial thoughts about this parameter actually changed. I will not consider this for carrier ratings. The reason is that some carriers might only operated in longer distance flights and it will give them a lower value for this."
   ]
  },
  {
   "cell_type": "markdown",
   "metadata": {
    "colab_type": "text",
    "id": "QHtoUMwOZblM"
   },
   "source": [
    "### Talk about some of the relationships you observed in this part of the investigation. How did the feature(s) of interest vary with other features in the dataset?\n",
    "\n",
    "> The feature I chose to work with from this data set is the UniqueCarrier, and as I expected there is no systematic relationship between the UniqueCarrier and the other features in the data set. It is however normal considering the nature of the data set and the exploration that I am interested in finding out.\n",
    "> For example, carriers with the most number of schedulled flights was not the carriers who had most number of cancellations, this is indeed come in handy for rating carrier performances.\n",
    "\n",
    "### Did you observe any interesting relationships between the other features (not the main feature(s) of interest)?\n",
    "\n",
    "> One interesting relationship observed was the linear relationship between the num_schedulled and num_delayed. These two have a correlation coefficient of 0.97."
   ]
  },
  {
   "cell_type": "markdown",
   "metadata": {
    "colab_type": "text",
    "id": "k1BFVXsGZblP"
   },
   "source": [
    "## Multivariate Exploration\n",
    "\n",
    "> Here I will create a scatter plot that shows carrier performances. This plot  will clearly show which carriers were the worst and the best in 2008. I will use the features 'pct_cancelled', 'pct_delayed' and 'delay_per_flight'."
   ]
  },
  {
   "cell_type": "code",
   "execution_count": 34,
   "metadata": {
    "colab": {
     "base_uri": "https://localhost:8080/",
     "height": 544
    },
    "colab_type": "code",
    "executionInfo": {
     "elapsed": 989,
     "status": "ok",
     "timestamp": 1561584427114,
     "user": {
      "displayName": "Roshan Fernando",
      "photoUrl": "",
      "userId": "06143968698700038822"
     },
     "user_tz": 420
    },
    "id": "lcptpHRXDpeX",
    "outputId": "cf796b2c-5f55-4045-8937-518176cf5613"
   },
   "outputs": [
    {
     "data": {
      "text/plain": [
       "Text(0.5, 1.0, 'Comparison of Carrier Performances in 2008')"
      ]
     },
     "execution_count": 34,
     "metadata": {
      "tags": []
     },
     "output_type": "execute_result"
    },
    {
     "data": {
      "image/png": "[encoded data removed]",
      "text/plain": [
       "<Figure size 576x576 with 1 Axes>"
      ]
     },
     "metadata": {
      "tags": []
     },
     "output_type": "display_data"
    }
   ],
   "source": [
    "# Set figure size\n",
    "plt.figure(figsize = (8, 8))\n",
    "\n",
    "# Set data\n",
    "cmap = sb.cubehelix_palette(as_cmap=True)\n",
    "pct_delayed = df_f.sort_values('pct_delayed', ascending = False)\n",
    "\n",
    "sb.set_style('whitegrid')\n",
    "sb.set_context(\"notebook\", font_scale=1.2)\n",
    "\n",
    "# Plot data\n",
    "sb.scatterplot(data =pct_delayed, x = 'pct_delayed', y = 'carrier_name',\n",
    "              hue = 'delay_per_flight', size = 'pct_cancelled', palette = cmap,\n",
    "              sizes = (50, 500), hue_order = (5, 100));\n",
    "plt.legend(loc='center right', bbox_to_anchor=(1.5, 0.5), ncol=1)\n",
    "\n",
    "# Change x-axis label\n",
    "plt.xlabel('Delayed per 100 Flights Schedulled (%)')\n",
    "\n",
    "# Change y-axis label\n",
    "plt.ylabel('')\n",
    "\n",
    "# Set title\n",
    "plt.title('Comparison of Carrier Performances in 2008',\n",
    "         pad = 10)"
   ]
  },
  {
   "cell_type": "markdown",
   "metadata": {
    "colab_type": "text",
    "id": "XOXniQitlxjI"
   },
   "source": [
    "> Here in this graph y-axis containing carrier names are ordered in increasing 'pct_delayed'. The hue and size respectively shows 'delay_per_flight' and 'pct_cancelled'.\n",
    "As overall Mesa Airline is the worst and Aloha Airline is the best."
   ]
  },
  {
   "cell_type": "code",
   "execution_count": 0,
   "metadata": {
    "colab": {
     "base_uri": "https://localhost:8080/",
     "height": 529
    },
    "colab_type": "code",
    "id": "Qq4hd2r7RWA_",
    "outputId": "39770e80-6913-41c9-9793-a7c949e08b84"
   },
   "outputs": [
    {
     "data": {
      "text/plain": [
       "<matplotlib.legend.Legend at 0x7f83157e4b70>"
      ]
     },
     "execution_count": 61,
     "metadata": {
      "tags": []
     },
     "output_type": "execute_result"
    },
    {
     "data": {
      "image/png": "[encoded data removed]",
      "text/plain": [
       "<Figure size 576x576 with 1 Axes>"
      ]
     },
     "metadata": {
      "tags": []
     },
     "output_type": "display_data"
    }
   ],
   "source": [
    "plt.figure(figsize = (8, 8))\n",
    "cmap = sb.cubehelix_palette(as_cmap=True)\n",
    "pct_cancelled = df_f.sort_values('pct_cancelled', ascending = False)\n",
    "sb.set_style('whitegrid')\n",
    "sb.set_context(\"notebook\", font_scale=1.2)\n",
    "sb.scatterplot(data = pct_cancelled, x = 'pct_delayed', y = 'carrier_name',\n",
    "               hue = 'delay_per_flight', palette = cmap,\n",
    "               hue_order = (50, 1000), s = 400);\n",
    "plt.legend(loc='center right', bbox_to_anchor=(1.5, 0.5), ncol=1)"
   ]
  },
  {
   "cell_type": "markdown",
   "metadata": {
    "colab_type": "text",
    "id": "hsVPaYGam9Q-"
   },
   "source": [
    "> For this plot, I did not use the size encoding, instead I arraged the carrier names in the y-axis in the increasing order of 'pct_cancelled'.\n",
    "> But the plot look messy and clear the point like the previous."
   ]
  },
  {
   "cell_type": "markdown",
   "metadata": {
    "colab_type": "text",
    "id": "zBzV82KCZbld"
   },
   "source": [
    "### Talk about some of the relationships you observed in this part of the investigation. Were there features that strengthened each other in terms of looking at your feature(s) of interest?\n",
    "\n",
    "> The three features, that I engineered from the data set in order to figure out the worst carrier really strengthened each other to rate the carriers. \n",
    "\n",
    "### Were there any interesting or surprising interactions between features?\n",
    "\n",
    "> It is interesting to see that 'pct_delay' have backward 'S'. In other ward pct_delay per increased rapidly in the begining and in the middle it increased slowly, and at the end it increased rapidly again."
   ]
  }
 ],
 "metadata": {
  "colab": {
   "collapsed_sections": [],
   "name": "exploration_flights_2008.ipynb",
   "provenance": [],
   "toc_visible": true,
   "version": "0.3.2"
  },
  "kernelspec": {
   "display_name": "Python 3",
   "language": "python",
   "name": "python3"
  },
  "language_info": {
   "codemirror_mode": {
    "name": "ipython",
    "version": 3
   },
   "file_extension": ".py",
   "mimetype": "text/x-python",
   "name": "python",
   "nbconvert_exporter": "python",
   "pygments_lexer": "ipython3",
   "version": "3.7.2"
  }
 },
 "nbformat": 4,
 "nbformat_minor": 1
}
